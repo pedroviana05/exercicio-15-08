{
  "nbformat": 4,
  "nbformat_minor": 0,
  "metadata": {
    "colab": {
      "provenance": [],
      "authorship_tag": "ABX9TyMF2qAkBydEMVtlSzdkB9aT",
      "include_colab_link": true
    },
    "kernelspec": {
      "name": "python3",
      "display_name": "Python 3"
    },
    "language_info": {
      "name": "python"
    }
  },
  "cells": [
    {
      "cell_type": "markdown",
      "metadata": {
        "id": "view-in-github",
        "colab_type": "text"
      },
      "source": [
        "<a href=\"https://colab.research.google.com/github/pedroviana05/exercicios/blob/main/aula1_u3.ipynb\" target=\"_parent\"><img src=\"https://colab.research.google.com/assets/colab-badge.svg\" alt=\"Open In Colab\"/></a>"
      ]
    },
    {
      "cell_type": "code",
      "execution_count": null,
      "metadata": {
        "id": "DulIRyvJV-rD"
      },
      "outputs": [],
      "source": [
        "import sqlite3\n",
        "\n",
        "#1. conectar ao banco de dados (ou criar um novo)\n",
        "#usando a função connect do modulo sqlite3 para se conectar a um bando de dados SQlite\n",
        "#chamado 'exemplo.db'. Se o banco de dados não existir, ele sera criado automaticamente.\n",
        "conn = sqlite3.connect('exemplo.db')\n",
        "\n",
        "# 2. criar u, objeto cursor\n",
        "#o cursor é usado para executar comandos SQL no bando de dados.\n",
        "#ele atua como uma especia de ponteiro que percorre os resultados de consultas.\n",
        "cursor = conn.cursor()\n",
        "\n",
        "#3. definir o comando SQL para criar tabela\n",
        "#define uma string create_table que contem um comando SQL para criar uma tabela chamada \"produtos\".\n",
        "#esta tabela tera quatro colunas: id (chave primaria), nome (texto), preco (numero real) e estoque (numero interiO0.)\n",
        "# o IF NOT EXISTS garante que a tabela so sera criada se ainda nao existir\n",
        "create_table = \"\"\"\n",
        "CREATE TABLE IF NOT EXISTS Produtos (\n",
        "  id INTEGER PRIMARY KEY,\n",
        "  nome TEXT NOT NULL,\n",
        "  preco REAL NOT NULL,\n",
        "  estoque INTEGER\n",
        ");\n",
        "\"\"\"\n",
        "#usa o metodo execute do objeto cursor para executar o comando SQL definido anteriormente e criar a tabela no banco de dados.\n",
        "# 4. executar o comando SQL para criar a tabela\n",
        "cursor.execute(create_table)\n",
        "\n",
        "\n",
        "# confirmar as alterações (commit)\n",
        "#apos a execução bem-sucedida do comando SQl, usa o método commit no objeto de conexão (conn) para confirmar as alterações no banco de dados.\n",
        "#isso garante que as alterações sejam efetivamente aplicadas\n",
        "conn.commit()\n",
        "\n",
        "#6. fechar a conexão com o banco de dados\n",
        "#finalmente, voce usa o metodo close no objeto de conexão para encerrar a conexão com o banco de dados.\n",
        "#é uma pratica recomendada fechar a conexão apos a concluesão das operações, para liberar recursos e evitar possiveis problemas de concorrencia"
      ]
    },
    {
      "cell_type": "code",
      "source": [
        "#adicionar produto\n",
        "import sqlite3\n",
        "#conectando ao banco de dados\n",
        "conn = sqlite3.connect('exemplo.db')\n",
        "cursor = conn.cursor()\n",
        "#dados do novo produto\n",
        "novo_produto = ('Camiseta', 19.99, 50)\n",
        "#comando SQL para inserir o novo produto na tabela\n",
        "inserir_produto = \"INSERT INTO Produtos (nome, preco, estoque) VALUES (?,?,?)\"\n",
        "#executando o comando SQL para inserção\n",
        "cursor.execute(inserir_produto, novo_produto)\n",
        "#confirmando as alterações\n",
        "conn.commit()\n",
        "#fechando a conexão\n",
        "conn.close()"
      ],
      "metadata": {
        "id": "VitiaqC-WBgg"
      },
      "execution_count": null,
      "outputs": []
    },
    {
      "cell_type": "code",
      "source": [
        "#visiualizar produto\n",
        "#conectando ao bando de dados\n",
        "conn = sqlite3.connect('exemplo.db')\n",
        "cursor = conn.cursor()\n",
        "#comando SQL para selecionar todos os produtos\n",
        "selecionar_produtos = \"SELECT * FROM Produtos\"\n",
        "#executando o comando SQL\n",
        "cursor.execute(selecionar_produtos)\n",
        "#obtendo todos os registros e exibindo-os\n",
        "produtos = cursor.fetchall()\n",
        "for produto in produtos:\n",
        "  print(produto)\n",
        "#fechando a conexão\n",
        "conn.close()"
      ],
      "metadata": {
        "colab": {
          "base_uri": "https://localhost:8080/"
        },
        "id": "ihzqii3ZWDuo",
        "outputId": "3ecc4915-145c-4b98-9fe0-40694f7724fb"
      },
      "execution_count": null,
      "outputs": [
        {
          "output_type": "stream",
          "name": "stdout",
          "text": [
            "(1, 'Camiseta', 19.99, 50)\n"
          ]
        }
      ]
    },
    {
      "cell_type": "code",
      "source": [
        "#atializar produto\n",
        "import sqlite3\n",
        "#conectando ao banco de dados\n",
        "conn = sqlite3.connect('exemplo.db')\n",
        "cursour = conn.cursor()\n",
        "#novo preço e id do produto a ser atualizado\n",
        "novo_preco = 24.99\n",
        "produto_id = 1\n",
        "#comando SQL para atualizar o preço do produto\n",
        "atualizar_preco = \"UPDATE Produtos SET preco = ? WHERE id = ?\"\n",
        "#executando o comando SQL para atualização\n",
        "cursor.execute(atualizar_preco, (novo_preco, produto_id))\n",
        "#confirmando as alterações\n",
        "conn.commit()\n",
        "#fechando a conexão\n",
        "conn.close()"
      ],
      "metadata": {
        "id": "9n2mv4KCWZlP"
      },
      "execution_count": null,
      "outputs": []
    },
    {
      "cell_type": "code",
      "source": [
        "\n",
        "\n",
        "\n",
        "\n",
        "\n",
        "\n",
        "\n"
      ],
      "metadata": {
        "id": "QNFaj2MnXVCA"
      },
      "execution_count": null,
      "outputs": []
    },
    {
      "cell_type": "code",
      "source": [
        "import sqlite3\n",
        "# Create(criacão da tabela e inserção de dados de exemplo)\n",
        "conn = sqlite3.connect('contatos.db')\n",
        "cursor = conn.cursor()\n",
        "cursor.execute('''\n",
        "    CREATE TABLE IF NOT EXISTS Contatos (\n",
        "        id INTEGER PRIMARY KEY AUTOINCREMENT,\n",
        "        nome TEXT,\n",
        "        email TEXT,\n",
        "        telefone TEXT\n",
        "    )\n",
        "''')\n",
        "dados_exemplo = [\n",
        "    ('João', 'joao@email.com', '123-456-7890'),\n",
        "    ('Maria', 'maria@email.com', '987-654-3210'),\n",
        "    ('Pedro', 'pedro@email.com', '555-555-5555')\n",
        "]\n",
        "cursor.executemany('INSERT INTO Contatos (nome, email, telefone) VALUES (?, ?, ?)', dados_exemplo)\n",
        "conn.commit()\n",
        "\n",
        "#read (leitura e exibição dos contatos)\n",
        "cursor.execute('SELECT * FROM Contatos')\n",
        "contatos = cursor.fetchall()\n",
        "print(\"Contatos:\")\n",
        "for contato in contatos:\n",
        "  print(contatos)\n",
        "\n",
        "  #update(atualização do numero de telefone do contato com id 2)\n",
        "novo_telefone = '555-123-4567'\n",
        "contato_id = 2\n",
        "cursor.execute('UPDATE Contatos SET telefone = ? WHERE id = ?', (novo_telefone, contato_id))\n",
        "conn.commit()\n",
        "# delete( exclusao do contato com id1)\n",
        "contato_id_para_excluir = 1\n",
        "cursor.execute('DELETE FROM Contatos WHERE id = ?', (contato_id_para_excluir,))\n",
        "conn.commit()\n",
        "conn.close()"
      ],
      "metadata": {
        "id": "YSCqfbXBXViY"
      },
      "execution_count": null,
      "outputs": []
    }
  ]
}