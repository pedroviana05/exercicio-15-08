{
  "nbformat": 4,
  "nbformat_minor": 0,
  "metadata": {
    "colab": {
      "provenance": [],
      "authorship_tag": "ABX9TyOWgXpqOvDMSGu8hLnrU0Rt",
      "include_colab_link": true
    },
    "kernelspec": {
      "name": "python3",
      "display_name": "Python 3"
    },
    "language_info": {
      "name": "python"
    }
  },
  "cells": [
    {
      "cell_type": "markdown",
      "metadata": {
        "id": "view-in-github",
        "colab_type": "text"
      },
      "source": [
        "<a href=\"https://colab.research.google.com/github/pedroviana05/exercicios/blob/main/aula02_u2.ipynb\" target=\"_parent\"><img src=\"https://colab.research.google.com/assets/colab-badge.svg\" alt=\"Open In Colab\"/></a>"
      ]
    },
    {
      "cell_type": "code",
      "execution_count": null,
      "metadata": {
        "colab": {
          "base_uri": "https://localhost:8080/"
        },
        "id": "m6EioiB6PWHJ",
        "outputId": "3814c3c6-6470-4bf1-9492-2b6e76553724"
      },
      "outputs": [
        {
          "output_type": "stream",
          "name": "stdout",
          "text": [
            "Conjunto apos adicionar elementos: {10, 20, 30}\n"
          ]
        }
      ],
      "source": [
        "# add (), in e remove()\n",
        "\n",
        "#criando um conjunto vazio\n",
        "meu_conjunto = set()\n",
        "\n",
        "#adicionando elementos ao conjunto\n",
        "meu_conjunto.add(10)\n",
        "meu_conjunto.add(20)\n",
        "meu_conjunto.add(30)\n",
        "\n",
        "#imprimindo o conjunto\n",
        "print(\"Conjunto apos adicionar elementos:\", meu_conjunto)\n",
        "\n"
      ]
    },
    {
      "cell_type": "code",
      "source": [
        "#verificando se um elemento esta no conjunto\n",
        "elemento = 20\n",
        "# tradução para entender a logica, se elemento(20) esta em meu_conjunto\n",
        "if elemento in meu_conjunto:\n",
        "  print(f\"{elemento} esta no conjunto\")\n",
        "else:\n",
        "    print(f\"{elemento} nao esta no conjunto.\")\n",
        "\n",
        "#removendo um elemento do conjunto\n",
        "meu_conjunto.remove(20)\n",
        "\n",
        "#imprimindo o conjunto atualizado\n",
        "print(\"Conjunto apos remover o elemento 20:\", meu_conjunto)"
      ],
      "metadata": {
        "colab": {
          "base_uri": "https://localhost:8080/",
          "height": 240
        },
        "id": "IJbLGLwIR-8J",
        "outputId": "07730439-db09-4ae6-b164-4d92fdee0092"
      },
      "execution_count": 15,
      "outputs": [
        {
          "output_type": "stream",
          "name": "stdout",
          "text": [
            "20 nao esta no conjunto.\n"
          ]
        },
        {
          "output_type": "error",
          "ename": "KeyError",
          "evalue": "20",
          "traceback": [
            "\u001b[0;31m---------------------------------------------------------------------------\u001b[0m",
            "\u001b[0;31mKeyError\u001b[0m                                  Traceback (most recent call last)",
            "\u001b[0;32m<ipython-input-15-350bf7f7e48d>\u001b[0m in \u001b[0;36m<cell line: 10>\u001b[0;34m()\u001b[0m\n\u001b[1;32m      8\u001b[0m \u001b[0;34m\u001b[0m\u001b[0m\n\u001b[1;32m      9\u001b[0m \u001b[0;31m#removendo um elemento do conjunto\u001b[0m\u001b[0;34m\u001b[0m\u001b[0;34m\u001b[0m\u001b[0m\n\u001b[0;32m---> 10\u001b[0;31m \u001b[0mmeu_conjunto\u001b[0m\u001b[0;34m.\u001b[0m\u001b[0mremove\u001b[0m\u001b[0;34m(\u001b[0m\u001b[0;36m20\u001b[0m\u001b[0;34m)\u001b[0m\u001b[0;34m\u001b[0m\u001b[0;34m\u001b[0m\u001b[0m\n\u001b[0m\u001b[1;32m     11\u001b[0m \u001b[0;34m\u001b[0m\u001b[0m\n\u001b[1;32m     12\u001b[0m \u001b[0;31m#imprimindo o conjunto atualizado\u001b[0m\u001b[0;34m\u001b[0m\u001b[0;34m\u001b[0m\u001b[0m\n",
            "\u001b[0;31mKeyError\u001b[0m: 20"
          ]
        }
      ]
    },
    {
      "cell_type": "code",
      "source": [
        "#exemplo 1 - criação de um dicionario vazio, seguido de atribuição de chaves e valores\n",
        "dici_1 = {}\n",
        "dici_1['nome'] = \"Pedro\"\n",
        "dici_1['idade'] = 18\n",
        "dici_1\n"
      ],
      "metadata": {
        "id": "Z4bo8WQfR9xk",
        "colab": {
          "base_uri": "https://localhost:8080/"
        },
        "outputId": "a83195ce-affc-400b-f2ef-0594d5041bb1"
      },
      "execution_count": 18,
      "outputs": [
        {
          "output_type": "execute_result",
          "data": {
            "text/plain": [
              "{'nome': 'Pedro', 'idade': 18}"
            ]
          },
          "metadata": {},
          "execution_count": 18
        }
      ]
    },
    {
      "cell_type": "code",
      "source": [
        "#exemplo 2 - criação de um dicionario com pares chaves: valor\n",
        "dici_2 = {'nome': 'Pedro', 'idade': 18}\n",
        "\n",
        "#exemplo 3 - criação de um dicionario com uma lista de tuplas representando pares chave: valor\n",
        "dici_3 = dict([('nome', \"Pedro\"), ('idade', 18)])\n",
        "\n",
        "#exemplo_4 - criação de um dicionario usando a função built-in zip() e duas listas, uma para as chaves e outra para os valores\n",
        "dici_4 = dict(zip(['nome', 'idade'] , [\"Pedro\", 18]))\n",
        "#teste se todas as contruções resultam em objetos iguais\n",
        "print(dici_1 == dici_2 == dici_3 == dici_4) #deve imprimir true\n",
        "print(dici_1)"
      ],
      "metadata": {
        "colab": {
          "base_uri": "https://localhost:8080/"
        },
        "id": "iuZNV5ieU2YP",
        "outputId": "f2233440-06a0-47d2-c6c3-678b148e4013"
      },
      "execution_count": 19,
      "outputs": [
        {
          "output_type": "stream",
          "name": "stdout",
          "text": [
            "True\n",
            "{'nome': 'Pedro', 'idade': 18}\n"
          ]
        }
      ]
    },
    {
      "cell_type": "code",
      "source": [],
      "metadata": {
        "id": "umW7CKSOWLSf"
      },
      "execution_count": null,
      "outputs": []
    },
    {
      "cell_type": "code",
      "source": [],
      "metadata": {
        "id": "81EKd-PQWLXe"
      },
      "execution_count": null,
      "outputs": []
    },
    {
      "cell_type": "code",
      "source": [
        "# importe a biblioteca Numpy\n",
        "import numpy as np\n",
        "\n",
        "#crie um array numpy de numeros inteiros\n",
        "my_array = np.array([1,2,3,4,5])\n",
        "\n",
        "#imprima o array\n",
        "print(\"Array original:\")\n",
        "print(my_array)\n"
      ],
      "metadata": {
        "colab": {
          "base_uri": "https://localhost:8080/"
        },
        "id": "9x8HoIfyWLbm",
        "outputId": "22488641-3fdf-45a1-cc85-76316cc35fa2"
      },
      "execution_count": 21,
      "outputs": [
        {
          "output_type": "stream",
          "name": "stdout",
          "text": [
            "Array original:\n",
            "[1 2 3 4 5]\n"
          ]
        }
      ]
    },
    {
      "cell_type": "code",
      "source": [
        "\n",
        "\n",
        "#realize operações matematicas com o array\n",
        "squared_array = my_array ** 2 #eleva cada elemento ao quadrado\n",
        "sum_of_elements = np.sum(my_array) #calcula a soma de todos os elementos\n",
        "\n",
        "#imprima os resultados\n",
        "print(\"\\nArray ao quadrado: \")\n",
        "print(squared_array)\n",
        "print(\"\\nSoma dos elementos: \")\n",
        "print(sum_of_elements)\n",
        "\n",
        "#Acesse elementos do array\n",
        "element_at_index_2 = my_array[2] #acessa o elemento no indice 2\n",
        "print(\"\\nElemento no indice 2:\", element_at_index_2)"
      ],
      "metadata": {
        "colab": {
          "base_uri": "https://localhost:8080/"
        },
        "id": "5lV8IuPVXfdI",
        "outputId": "b6bccd07-bd56-41ba-c532-e7a3101059a1"
      },
      "execution_count": 22,
      "outputs": [
        {
          "output_type": "stream",
          "name": "stdout",
          "text": [
            "\n",
            "Array ao quadrado: \n",
            "[ 1  4  9 16 25]\n",
            "\n",
            "Soma dos elementos: \n",
            "15\n",
            "\n",
            "Elemento no indice 2: 3\n"
          ]
        }
      ]
    },
    {
      "cell_type": "code",
      "source": [],
      "metadata": {
        "id": "aJ43mcuMYIY7"
      },
      "execution_count": null,
      "outputs": []
    },
    {
      "cell_type": "code",
      "source": [
        "#importe as bibliotecas necessarias\n",
        "import numpy as np\n",
        "#dados dos participantes\n",
        "participantes = [\n",
        "    {\n",
        "        \"nome\": \"Regina\",\n",
        "        \"localizacao\": \"EUA\",\n",
        "        \"afiliacao\": \"Universidade A\",\n",
        "        \"interesses\": [\"Culinária\", \"Nutrição\"]\n",
        "    },\n",
        "    {\n",
        "        \"nome\": \"Rayan\",\n",
        "        \"localizacao\": \"Italia\",\n",
        "        \"afiliacao\": \"Universidade B\",\n",
        "        \"interesses\": [\"Fisica\", \"Ed. Fisica\"]\n",
        "    },\n",
        "    {\n",
        "        \"nome\": \"Pedro\",\n",
        "        \"localizacao\": \"Brasil\",\n",
        "        \"afiliacao\": \"Universidade c\",\n",
        "        \"interesses\": [\"Astronomia\", \"Futebol\"]\n",
        "    }\n",
        "    #adicione mais participantes conforme necessario\n",
        "]\n",
        "#usando sets para identificar diferentes regioes dos participantes\n",
        "regioes = set(participante[\"localizacao\"] for participante in participantes)\n",
        "\n",
        "#usando um dicionário para categorizar afiliações\n",
        "afiliacoes = {}\n",
        "for participante in participantes:\n",
        "    afiliacao = participante[\"afiliacao\"]\n",
        "    if afiliacao not in afiliacoes:\n",
        "      afiliacoes[afiliacao] = []\n",
        "    afiliacoes[afiliacao].append(participante[\"nome\"])\n",
        "\n",
        "#usando Numpy para analisar areas de interesse\n",
        "areas_de_interesse = np.array([interesse for participante in participantes for interesse in participante[\"interesses\"]])\n",
        "interesses_unicos, contagem = np.unique(areas_de_interesse, return_counts=True)\n",
        "areas_mais_popular = interesses_unicos[np.argmax(contagem)]\n",
        "\n",
        "#resultados\n",
        "print(\"Regiões dos participantes:\", regioes)\n",
        "print(\"Afiliações dos participantes:\")\n",
        "for afiliacao, nomes in afiliacoes.items():\n",
        "  print(f\"{afiliacao}: {', '.join(nomes)}\")\n",
        "  print(\"Area de interesse mais popular:\", areas_mais_popular)"
      ],
      "metadata": {
        "colab": {
          "base_uri": "https://localhost:8080/"
        },
        "id": "r7RmEKG4YIbd",
        "outputId": "b0dcc897-36c3-4ecd-e7b1-ed675943bd33"
      },
      "execution_count": 33,
      "outputs": [
        {
          "output_type": "stream",
          "name": "stdout",
          "text": [
            "Regiões dos participantes: {'EUA', 'Italia', 'Brasil'}\n",
            "Afiliações dos participantes:\n",
            "Universidade A: Regina\n",
            "Area de interesse mais popular: Astronomia\n",
            "Universidade B: Rayan\n",
            "Area de interesse mais popular: Astronomia\n",
            "Universidade c: Pedro\n",
            "Area de interesse mais popular: Astronomia\n"
          ]
        }
      ]
    }
  ]
}