{
  "nbformat": 4,
  "nbformat_minor": 0,
  "metadata": {
    "colab": {
      "provenance": [],
      "authorship_tag": "ABX9TyO9ihy6SLhvqy47VGAvcJJn",
      "include_colab_link": true
    },
    "kernelspec": {
      "name": "python3",
      "display_name": "Python 3"
    },
    "language_info": {
      "name": "python"
    }
  },
  "cells": [
    {
      "cell_type": "markdown",
      "metadata": {
        "id": "view-in-github",
        "colab_type": "text"
      },
      "source": [
        "<a href=\"https://colab.research.google.com/github/pedroviana05/exercicios/blob/main/aula04.ipynb\" target=\"_parent\"><img src=\"https://colab.research.google.com/assets/colab-badge.svg\" alt=\"Open In Colab\"/></a>"
      ]
    },
    {
      "cell_type": "code",
      "execution_count": 3,
      "metadata": {
        "colab": {
          "base_uri": "https://localhost:8080/"
        },
        "id": "lmV4BEZWy6-X",
        "outputId": "89170ada-76d3-4bab-b62f-a2cd71597fb8"
      },
      "outputs": [
        {
          "output_type": "stream",
          "name": "stdout",
          "text": [
            "O comprimento da lista é:  14\n"
          ]
        }
      ],
      "source": [
        "# Cria uma lista de numeros\n",
        "numeros = [1, 2, 3, 4, 5, 6, 7,8,9,10,11,12,'a',True]\n",
        "\n",
        "# Use a função len() para calcular o comprimento da lista\n",
        "# Conta somente quantas coisas tem na chave\n",
        "comprimento = len(numeros)\n",
        "\n",
        "# Imprime o comprimento da lista\n",
        "print(\"O comprimento da lista é: \", comprimento)"
      ]
    },
    {
      "cell_type": "code",
      "source": [
        "3 # Definindo uma função chamada \"soma\"\n",
        "# def = definição, definir\n",
        "def soma(a, b):\n",
        "  resultado = a + b\n",
        "  return resultado"
      ],
      "metadata": {
        "id": "iyJIFE7q09N3"
      },
      "execution_count": 5,
      "outputs": []
    },
    {
      "cell_type": "code",
      "source": [
        "resultado_soma = soma(5, 3)\n",
        "\n",
        "# Imprimindo o resultado\n",
        "print(\"A soma de 5 e 3 é:\", resultado_soma)"
      ],
      "metadata": {
        "colab": {
          "base_uri": "https://localhost:8080/"
        },
        "id": "g6Xy8XRo1KSo",
        "outputId": "ea1fe639-e6e0-44c6-fd84-68b617a60f45"
      },
      "execution_count": 6,
      "outputs": [
        {
          "output_type": "stream",
          "name": "stdout",
          "text": [
            "A soma de 5 e 3 é: 8\n"
          ]
        }
      ]
    },
    {
      "cell_type": "code",
      "source": [
        "# Definindo uma função chama \"e_par\"\n",
        "# o resultado divido por 2 é 0\n",
        "def e_par(numero):\n",
        "  #operador módulo %\n",
        "\n",
        "  if numero % 2 == 0:\n",
        "    return True\n",
        "  else:\n",
        "    return False"
      ],
      "metadata": {
        "id": "eRM3PGy31aC5"
      },
      "execution_count": 8,
      "outputs": []
    },
    {
      "cell_type": "code",
      "source": [
        "numero = 679284683264973434657\n",
        "if e_par(numero):\n",
        "    print(f\"{numero} é um número par.\")\n",
        "else:\n",
        "    print(f\"{numero} não é um numero par.\")"
      ],
      "metadata": {
        "colab": {
          "base_uri": "https://localhost:8080/"
        },
        "id": "cOMwz0En2bnh",
        "outputId": "f5a2e560-de24-4c92-b6e7-65bd139d39bf"
      },
      "execution_count": 11,
      "outputs": [
        {
          "output_type": "stream",
          "name": "stdout",
          "text": [
            "679284683264973434657 não é um numero par.\n"
          ]
        }
      ]
    },
    {
      "cell_type": "code",
      "source": [
        "soma = lambda a, b: a + b\n",
        "resultado = soma(57,4)\n",
        "print(resultado)"
      ],
      "metadata": {
        "colab": {
          "base_uri": "https://localhost:8080/"
        },
        "id": "6Umni60B3sUZ",
        "outputId": "4c6afc65-42dc-4c67-91db-b45d3086b633"
      },
      "execution_count": 13,
      "outputs": [
        {
          "output_type": "stream",
          "name": "stdout",
          "text": [
            "61\n"
          ]
        }
      ]
    },
    {
      "cell_type": "code",
      "source": [
        "# round = arredondar\n",
        "# Lista de notas dos estudantes\n",
        "\n",
        "#notas = [8.5, 8.0, 4.5, 9.0, 7.0]\n",
        "nota1 = input(\"Digite as 05 notas \")\n",
        "nota2 = input(\"Digite as 05 notas \")\n",
        "nota3 = input(\"Digite as 05 notas \")\n",
        "nota4 = input(\"Digite as 05 notas \")\n",
        "nota5 = input(\"Digite as 05 notas \")\n",
        "\n",
        "\n",
        "# definir notas 1,2,3,4,5 e uma nota só\n",
        "notas =  {nota1, nota2, nota3, nota4, nota5}\n",
        "# Função regular para calcular a média\n",
        "def calcular_media(notas):\n",
        "\n",
        "    total = sum(notas)\n",
        "    media = total / len(notas)\n",
        "    return media\n",
        "\n",
        "# Função lambda para arredondar a média para duas casas decimais\n",
        "arredondar_media = lambda media: round(media, 2)\n",
        "\n",
        "# Calcular a média\n",
        "media = calcular_media(notas)\n",
        "media_arredondada = arredondar_media(media)\n",
        "\n",
        "# Verificar se os estudantes foram aprovados\n",
        "situacao = \"Aprovado\" if media_arredondada >= 7 else \"Reprovado\"\n",
        "\n",
        "# Resultados\n",
        "print(\"Notas dos estudante\", notas)\n",
        "\n",
        "print(\"Médoa das notas\", media_arredondada)\n",
        "\n",
        "print(\"Situação do estudante\", situacao)"
      ],
      "metadata": {
        "colab": {
          "base_uri": "https://localhost:8080/",
          "height": 419
        },
        "id": "2PcocqS35EC-",
        "outputId": "c1e34292-bab0-4467-bde4-fe6571ee9352"
      },
      "execution_count": 32,
      "outputs": [
        {
          "name": "stdout",
          "output_type": "stream",
          "text": [
            "Digite as 05 notas 6.2\n",
            "Digite as 05 notas 2\n",
            "Digite as 05 notas 8\n",
            "Digite as 05 notas 10\n",
            "Digite as 05 notas \n"
          ]
        },
        {
          "output_type": "error",
          "ename": "TypeError",
          "evalue": "unsupported operand type(s) for +: 'int' and 'str'",
          "traceback": [
            "\u001b[0;31m---------------------------------------------------------------------------\u001b[0m",
            "\u001b[0;31mTypeError\u001b[0m                                 Traceback (most recent call last)",
            "\u001b[0;32m<ipython-input-32-14157da2b622>\u001b[0m in \u001b[0;36m<cell line: 25>\u001b[0;34m()\u001b[0m\n\u001b[1;32m     23\u001b[0m \u001b[0;34m\u001b[0m\u001b[0m\n\u001b[1;32m     24\u001b[0m \u001b[0;31m# Calcular a média\u001b[0m\u001b[0;34m\u001b[0m\u001b[0;34m\u001b[0m\u001b[0m\n\u001b[0;32m---> 25\u001b[0;31m \u001b[0mmedia\u001b[0m \u001b[0;34m=\u001b[0m \u001b[0mcalcular_media\u001b[0m\u001b[0;34m(\u001b[0m\u001b[0mnotas\u001b[0m\u001b[0;34m)\u001b[0m\u001b[0;34m\u001b[0m\u001b[0;34m\u001b[0m\u001b[0m\n\u001b[0m\u001b[1;32m     26\u001b[0m \u001b[0mmedia_arredondada\u001b[0m \u001b[0;34m=\u001b[0m \u001b[0marredondar_media\u001b[0m\u001b[0;34m(\u001b[0m\u001b[0mmedia\u001b[0m\u001b[0;34m)\u001b[0m\u001b[0;34m\u001b[0m\u001b[0;34m\u001b[0m\u001b[0m\n\u001b[1;32m     27\u001b[0m \u001b[0;34m\u001b[0m\u001b[0m\n",
            "\u001b[0;32m<ipython-input-32-14157da2b622>\u001b[0m in \u001b[0;36mcalcular_media\u001b[0;34m(notas)\u001b[0m\n\u001b[1;32m     15\u001b[0m \u001b[0;32mdef\u001b[0m \u001b[0mcalcular_media\u001b[0m\u001b[0;34m(\u001b[0m\u001b[0mnotas\u001b[0m\u001b[0;34m)\u001b[0m\u001b[0;34m:\u001b[0m\u001b[0;34m\u001b[0m\u001b[0;34m\u001b[0m\u001b[0m\n\u001b[1;32m     16\u001b[0m \u001b[0;34m\u001b[0m\u001b[0m\n\u001b[0;32m---> 17\u001b[0;31m     \u001b[0mtotal\u001b[0m \u001b[0;34m=\u001b[0m \u001b[0msum\u001b[0m\u001b[0;34m(\u001b[0m\u001b[0mnotas\u001b[0m\u001b[0;34m)\u001b[0m\u001b[0;34m\u001b[0m\u001b[0;34m\u001b[0m\u001b[0m\n\u001b[0m\u001b[1;32m     18\u001b[0m     \u001b[0mmedia\u001b[0m \u001b[0;34m=\u001b[0m \u001b[0mtotal\u001b[0m \u001b[0;34m/\u001b[0m \u001b[0mlen\u001b[0m\u001b[0;34m(\u001b[0m\u001b[0mnotas\u001b[0m\u001b[0;34m)\u001b[0m\u001b[0;34m\u001b[0m\u001b[0;34m\u001b[0m\u001b[0m\n\u001b[1;32m     19\u001b[0m     \u001b[0;32mreturn\u001b[0m \u001b[0mmedia\u001b[0m\u001b[0;34m\u001b[0m\u001b[0;34m\u001b[0m\u001b[0m\n",
            "\u001b[0;31mTypeError\u001b[0m: unsupported operand type(s) for +: 'int' and 'str'"
          ]
        }
      ]
    }
  ]
}