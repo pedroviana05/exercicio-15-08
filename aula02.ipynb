{
  "nbformat": 4,
  "nbformat_minor": 0,
  "metadata": {
    "colab": {
      "provenance": [],
      "authorship_tag": "ABX9TyOkwnjtKR+h/BdiMY/LDGTE",
      "include_colab_link": true
    },
    "kernelspec": {
      "name": "python3",
      "display_name": "Python 3"
    },
    "language_info": {
      "name": "python"
    }
  },
  "cells": [
    {
      "cell_type": "markdown",
      "metadata": {
        "id": "view-in-github",
        "colab_type": "text"
      },
      "source": [
        "<a href=\"https://colab.research.google.com/github/pedroviana05/exercicios/blob/main/aula02.ipynb\" target=\"_parent\"><img src=\"https://colab.research.google.com/assets/colab-badge.svg\" alt=\"Open In Colab\"/></a>"
      ]
    },
    {
      "cell_type": "code",
      "execution_count": 2,
      "metadata": {
        "colab": {
          "base_uri": "https://localhost:8080/"
        },
        "id": "5ylTMCSX9-r4",
        "outputId": "ee317344-22ea-477c-a8d8-06a9bbf1d3f9"
      },
      "outputs": [
        {
          "output_type": "execute_result",
          "data": {
            "text/plain": [
              "True"
            ]
          },
          "metadata": {},
          "execution_count": 2
        }
      ],
      "source": [
        " 3>2"
      ]
    },
    {
      "cell_type": "code",
      "source": [
        " 2 == 2"
      ],
      "metadata": {
        "colab": {
          "base_uri": "https://localhost:8080/"
        },
        "id": "2NkTaoca_Jmv",
        "outputId": "902040b9-4066-4c3e-cf52-63bc7151cddf"
      },
      "execution_count": 5,
      "outputs": [
        {
          "output_type": "execute_result",
          "data": {
            "text/plain": [
              "True"
            ]
          },
          "metadata": {},
          "execution_count": 5
        }
      ]
    },
    {
      "cell_type": "code",
      "source": [
        "a = 'aluno'\n",
        "b = 'aluna'\n",
        "\n",
        "a is b"
      ],
      "metadata": {
        "colab": {
          "base_uri": "https://localhost:8080/"
        },
        "id": "WPtuuvmf_Lx9",
        "outputId": "d2511c9d-c6f9-4db1-b7ea-6797c61b5a2a"
      },
      "execution_count": 9,
      "outputs": [
        {
          "output_type": "execute_result",
          "data": {
            "text/plain": [
              "False"
            ]
          },
          "metadata": {},
          "execution_count": 9
        }
      ]
    },
    {
      "cell_type": "code",
      "source": [
        "\n",
        "\n",
        "\n",
        "\n"
      ],
      "metadata": {
        "id": "UFn8OGpw_OtN"
      },
      "execution_count": null,
      "outputs": []
    },
    {
      "cell_type": "code",
      "source": [],
      "metadata": {
        "id": "dm74qwUW_XcI"
      },
      "execution_count": null,
      "outputs": []
    },
    {
      "cell_type": "code",
      "source": [],
      "metadata": {
        "id": "D5e60muD_cjQ"
      },
      "execution_count": null,
      "outputs": []
    },
    {
      "cell_type": "code",
      "source": [],
      "metadata": {
        "id": "sUoq2Vzd_diZ"
      },
      "execution_count": null,
      "outputs": []
    },
    {
      "cell_type": "code",
      "source": [
        "#dados, entrada\n",
        "idade = 17\n",
        "\n",
        "#<= menor ou igual\n",
        "#>= maior ou igual\n",
        "#< menor\n",
        "#> maior\n",
        "\n",
        "#processamento, if = se\n",
        "if idade > 1 and idade <=10:\n",
        "  print(\"Criança\")\n",
        "\n",
        "#elif = caso isso nao aconteça\n",
        "elif idade > 10 and idade <= 17:\n",
        "  print(\"Adolescente\")\n",
        "elif idade >= 18 and idade < 65:\n",
        "  print(\"Adulto\")\n",
        "elif idade >= 66 and idade <= 100:\n",
        "  print(\"Idoso\")\n",
        "elif idade >= 101:\n",
        "  print(\"Falecido\")\n",
        "\n",
        "#caso contrario\n",
        "#saida\n",
        "else:\n",
        "  print(\"Recém nascido\")"
      ],
      "metadata": {
        "colab": {
          "base_uri": "https://localhost:8080/"
        },
        "id": "Gk73TwRA_eAI",
        "outputId": "5a421356-828b-4170-ce07-ebd80c25b76e"
      },
      "execution_count": 55,
      "outputs": [
        {
          "output_type": "stream",
          "name": "stdout",
          "text": [
            "Adolescente\n"
          ]
        }
      ]
    },
    {
      "cell_type": "code",
      "source": [
        "#Bem-vinda a maquina automatica do cinema\n",
        "\n",
        "#solicita a idade do cliente\n",
        "idade =int(input(\"Por favor, digite sua idade!: \"))\n",
        "\n",
        "\n",
        "#verifica a idade para sugestão de filmes\n",
        "if idade < 12:\n",
        "  print(\"Recomendamos o filme infantil\")\n",
        "elif 12 <= idade < 18:\n",
        "  print(\"Recomendamos o filme para adolescente\")\n",
        "else:\n",
        "  print(\"Recomendamos o filme para adultos\")\n",
        "\n",
        "#qual filme tem nos horario\n",
        "\n",
        "\n",
        "#definir qual horario o cliente vai assistir o filme\n",
        "horario =int(input(\"Qual horario você deseja assitir o filme\"))\n",
        "\n",
        "if horario >= 12 and horario <= 16:\n",
        "  print(\"filmes infantis disponiveis\")\n",
        "elif horario <= 20 and horario >= 17:\n",
        "  print(\"filmes adolescentes disponiveis\")\n",
        "elif horario >= 18 and horario <= 23:\n",
        "  print(\"filmes adultos disponiveis\")\n",
        "elif horario >= 6:\n",
        "  print(\"Cinema fechado\")\n",
        "else:\n",
        "  print(\"horario nao disponivel\")\n",
        "\n",
        "#Verificar a quantidade de ingressos para ver se pode assitir o filme\n",
        "\n",
        "quantidades_de_ingressos =int(input(\"Por favor, digite a quantidade de ingressos que voce tem!: \"))\n",
        "if quantidades_de_ingressos == 0:\n",
        "  print(\"Você não tem ingressos disponiveis.\")\n",
        "else:\n",
        "  print(\"Você pode assistir o filme. Divirta-se\")\n",
        "\n",
        "\n",
        "\n",
        "\n"
      ],
      "metadata": {
        "colab": {
          "base_uri": "https://localhost:8080/"
        },
        "id": "VDv7pWnIJHJw",
        "outputId": "2a5eb3b0-743b-4e76-f7b7-bd6d6e05b1ad"
      },
      "execution_count": 101,
      "outputs": [
        {
          "output_type": "stream",
          "name": "stdout",
          "text": [
            "Por favor, digite sua idade!: 5\n",
            "Recomendamos o filme infantil\n",
            "Qual horario você deseja assitir o filme15\n",
            "filmes infantis disponiveis\n",
            "Por favor, digite a quantidade de ingressos que voce tem!: 3\n",
            "Você pode assistir o filme. Divirta-se\n"
          ]
        }
      ]
    }
  ]
}