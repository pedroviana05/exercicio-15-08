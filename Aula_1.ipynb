{
  "nbformat": 4,
  "nbformat_minor": 0,
  "metadata": {
    "colab": {
      "provenance": [],
      "authorship_tag": "ABX9TyM6moy63gwRu8NnGOQh8qB4",
      "include_colab_link": true
    },
    "kernelspec": {
      "name": "python3",
      "display_name": "Python 3"
    },
    "language_info": {
      "name": "python"
    }
  },
  "cells": [
    {
      "cell_type": "markdown",
      "metadata": {
        "id": "view-in-github",
        "colab_type": "text"
      },
      "source": [
        "<a href=\"https://colab.research.google.com/github/pedroviana05/exercicio-15-08/blob/main/Aula_1.ipynb\" target=\"_parent\"><img src=\"https://colab.research.google.com/assets/colab-badge.svg\" alt=\"Open In Colab\"/></a>"
      ]
    },
    {
      "cell_type": "code",
      "source": [
        "#hello world é o começo de tudo!!\n",
        "print( \"hello world\")\n"
      ],
      "metadata": {
        "colab": {
          "base_uri": "https://localhost:8080/"
        },
        "id": "rfelL5CMXTJX",
        "outputId": "b754dcd7-c6b2-4e2e-92b2-c12d3bba45f7"
      },
      "execution_count": 3,
      "outputs": [
        {
          "output_type": "stream",
          "name": "stdout",
          "text": [
            "hello world\n"
          ]
        }
      ]
    },
    {
      "cell_type": "code",
      "source": [
        " x = 10\n",
        " nome = 'aluno'\n",
        " nota = 8.75\n",
        " fez_inscricao = True"
      ],
      "metadata": {
        "id": "VZSl8oTgcFYk"
      },
      "execution_count": 4,
      "outputs": []
    },
    {
      "cell_type": "code",
      "source": [
        "print(type(fez_inscricao))"
      ],
      "metadata": {
        "colab": {
          "base_uri": "https://localhost:8080/"
        },
        "id": "PJeFp3Wvcpwn",
        "outputId": "c0f8d87e-728d-47cb-c1f4-58b16ba20474"
      },
      "execution_count": 10,
      "outputs": [
        {
          "output_type": "stream",
          "name": "stdout",
          "text": [
            "<class 'bool'>\n"
          ]
        }
      ]
    },
    {
      "cell_type": "code",
      "source": [
        "nome = input(\"Digite um nome:\")"
      ],
      "metadata": {
        "colab": {
          "base_uri": "https://localhost:8080/"
        },
        "id": "a1k9ajJAbNyQ",
        "outputId": "e583c910-a3b7-4c1c-95b1-3baf4c5e6b04"
      },
      "execution_count": 19,
      "outputs": [
        {
          "name": "stdout",
          "output_type": "stream",
          "text": [
            "Digite um nome:Pedro\n"
          ]
        }
      ]
    },
    {
      "cell_type": "code",
      "source": [
        "print(nome)"
      ],
      "metadata": {
        "colab": {
          "base_uri": "https://localhost:8080/"
        },
        "id": "-bmi_zxFd3TB",
        "outputId": "05835069-3c00-4b8c-c59c-15fe778fd981"
      },
      "execution_count": 20,
      "outputs": [
        {
          "output_type": "stream",
          "name": "stdout",
          "text": [
            "Pedro\n"
          ]
        }
      ]
    },
    {
      "cell_type": "code",
      "source": [
        "#formatadores de caracteres\n",
        "print(\"Olá %s, bem-vindo a disciplina de programção. Parabéns pelo seu primeiro hello world\" % (nome))\n"
      ],
      "metadata": {
        "colab": {
          "base_uri": "https://localhost:8080/"
        },
        "id": "Go6-XUHGeh51",
        "outputId": "4f204f41-a1cf-4c22-ceca-7d86f4240ef2"
      },
      "execution_count": 22,
      "outputs": [
        {
          "output_type": "stream",
          "name": "stdout",
          "text": [
            "Olá Pedro, bem-vindo a disciplina de programção. Parabéns pelo seu primeiro hello world\n"
          ]
        }
      ]
    },
    {
      "cell_type": "code",
      "source": [
        "#F-string\n",
        "print(f\"Olá {nome}, bem-vindo a disciplina de programção. Parabéns pelo seu primeiro hello world\")"
      ],
      "metadata": {
        "colab": {
          "base_uri": "https://localhost:8080/"
        },
        "id": "xT6o9viRgk6V",
        "outputId": "36a8e1d9-4b7c-4841-b26a-592c060db6a2"
      },
      "execution_count": 24,
      "outputs": [
        {
          "output_type": "stream",
          "name": "stdout",
          "text": [
            "Olá Pedro, bem-vindo a disciplina de programção. Parabéns pelo seu primeiro hello world\n"
          ]
        }
      ]
    },
    {
      "cell_type": "code",
      "source": [
        "Nota_1 = int(input(\"Digite a primeira nota:\"))\n",
        "Nota_2 = int(input(\"Digite a segunda nota:\"))\n",
        "Nota_3 = int(input(\"Digite a terceira nota:\"))\n",
        "Nota_4 = int(input(\"Digite a quarta nota:\"))\n",
        "#observe que utilizamos a função int(), pois sem ela, o Python entenderia que as notas seriam String"
      ],
      "metadata": {
        "colab": {
          "base_uri": "https://localhost:8080/"
        },
        "id": "Nj7Ev18EfDjg",
        "outputId": "327aee9b-e910-44d0-be02-57bc3fd4fa74"
      },
      "execution_count": 33,
      "outputs": [
        {
          "name": "stdout",
          "output_type": "stream",
          "text": [
            "Digite a primeira nota:10\n",
            "Digite a segunda nota:2\n",
            "Digite a terceira nota:7\n",
            "Digite a quarta nota:1\n"
          ]
        }
      ]
    },
    {
      "cell_type": "code",
      "source": [
        "#condição para a aprovação do aluno\n",
        "media = (Nota_1+Nota_2+Nota_3+Nota_4)/4\n",
        "\n",
        "if media >= 6:\n",
        "  situacao = \"Aprovado\"\n",
        "else:\n",
        "  situacao = \"Reprovado\""
      ],
      "metadata": {
        "id": "in0PkKfxfjpz"
      },
      "execution_count": 34,
      "outputs": []
    },
    {
      "cell_type": "code",
      "source": [
        "#dadas as notas mostramos a média final e a situação do aluno\n",
        "print(f\"A média das notas é: {media}\")\n",
        "print(f\"Situação do aluno: {situacao}\")\n"
      ],
      "metadata": {
        "colab": {
          "base_uri": "https://localhost:8080/"
        },
        "id": "YDxKGiM-f_lW",
        "outputId": "398f81eb-9926-4ca8-a935-325ade9387a7"
      },
      "execution_count": 35,
      "outputs": [
        {
          "output_type": "stream",
          "name": "stdout",
          "text": [
            "A média das notas é: 5.0\n",
            "Situação do aluno: Reprovado\n"
          ]
        }
      ]
    }
  ]
}