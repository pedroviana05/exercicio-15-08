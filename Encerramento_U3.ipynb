{
  "nbformat": 4,
  "nbformat_minor": 0,
  "metadata": {
    "colab": {
      "provenance": [],
      "authorship_tag": "ABX9TyNm0Pv9TaRAtNkYXV+ISn6F",
      "include_colab_link": true
    },
    "kernelspec": {
      "name": "python3",
      "display_name": "Python 3"
    },
    "language_info": {
      "name": "python"
    }
  },
  "cells": [
    {
      "cell_type": "markdown",
      "metadata": {
        "id": "view-in-github",
        "colab_type": "text"
      },
      "source": [
        "<a href=\"https://colab.research.google.com/github/pedroviana05/exercicios/blob/main/Encerramento_U3.ipynb\" target=\"_parent\"><img src=\"https://colab.research.google.com/assets/colab-badge.svg\" alt=\"Open In Colab\"/></a>"
      ]
    },
    {
      "cell_type": "code",
      "execution_count": 32,
      "metadata": {
        "id": "whVlJaecD0iB"
      },
      "outputs": [],
      "source": [
        "import sqlite3\n",
        "# passo 1: conectar ao banco de dados SQLite (ou criaá=lo se não existir)\n",
        "conn = sqlite3.connect(\"funcionarios.db\")\n"
      ]
    },
    {
      "cell_type": "code",
      "source": [
        "#passo 2 : criar a tabela de funcionarios\n",
        "cursor = conn.cursor()\n",
        "cursor.execute('''\n",
        "    CREATE TABLE IF NOT EXISTS funcionarios (\n",
        "        id INTEGER PRIMARY KEY,\n",
        "        nome TEXT,\n",
        "        cargo TEXT,\n",
        "        salario REAL\n",
        "    )\n",
        "''')\n"
      ],
      "metadata": {
        "colab": {
          "base_uri": "https://localhost:8080/"
        },
        "id": "DDJz-DT5GZCt",
        "outputId": "eb22962b-ecd8-4b92-e356-f7b3d6c0e9be"
      },
      "execution_count": 29,
      "outputs": [
        {
          "output_type": "execute_result",
          "data": {
            "text/plain": [
              "<sqlite3.Cursor at 0x7b66feb1e940>"
            ]
          },
          "metadata": {},
          "execution_count": 29
        }
      ]
    },
    {
      "cell_type": "code",
      "source": [
        "#passo 3 : inserir um novo funcionario na tabela\n",
        "novo_funcionario = (1, \"Pedro\", \"Cherf\", 50000.00)\n",
        "cursor.execute(\"INSERT INTO funcionarios VALUES (?, ?, ?, ?)\", novo_funcionario)\n",
        "conn.commit()"
      ],
      "metadata": {
        "id": "LHjEsEAKGpPv"
      },
      "execution_count": null,
      "outputs": []
    },
    {
      "cell_type": "code",
      "source": [
        "#passo 4: consultar e exibir funcionarios\n",
        "cursor.execute(\"SELECT * FROM funcionarios\")\n",
        "funcionarios = cursor.fetchall()\n",
        "for funcionario in funcionarios:\n",
        "    print(funcionario)"
      ],
      "metadata": {
        "colab": {
          "base_uri": "https://localhost:8080/"
        },
        "id": "k-GI4VMUGzEm",
        "outputId": "387e2f24-2ae5-439a-fbaf-66d17c43fb22"
      },
      "execution_count": 17,
      "outputs": [
        {
          "output_type": "stream",
          "name": "stdout",
          "text": [
            "(1, 'João Silva', 'Analista de Dados', 5000.0)\n",
            "(2, 'Pedro', 'Cherf', 50000.0)\n"
          ]
        }
      ]
    },
    {
      "cell_type": "code",
      "source": [
        "#passo 5 : atualizar informações de um funcionario\n",
        "cursor.execute(\"UPDATE funcionarios SET salario = ? WHERE id = ?\", (6000.00, 1))\n",
        "conn.commit()"
      ],
      "metadata": {
        "id": "W1Vm3eF7HO2D"
      },
      "execution_count": 9,
      "outputs": []
    },
    {
      "cell_type": "code",
      "source": [
        "#passo 6: deletar um funcionario da tabela\n",
        "cursor.execute(\"DELETE FROM funcionarios WHERE id = ?\", (1,))\n",
        "conn.commit()\n",
        "conn.close()"
      ],
      "metadata": {
        "id": "1xthvi-7HX-q"
      },
      "execution_count": null,
      "outputs": []
    },
    {
      "cell_type": "code",
      "source": [],
      "metadata": {
        "id": "mLRkztx5OEif"
      },
      "execution_count": null,
      "outputs": []
    }
  ]
}