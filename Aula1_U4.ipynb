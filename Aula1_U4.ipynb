{
  "nbformat": 4,
  "nbformat_minor": 0,
  "metadata": {
    "colab": {
      "provenance": [],
      "authorship_tag": "ABX9TyPazPj0sC10FYyQThK2MxoN",
      "include_colab_link": true
    },
    "kernelspec": {
      "name": "python3",
      "display_name": "Python 3"
    },
    "language_info": {
      "name": "python"
    }
  },
  "cells": [
    {
      "cell_type": "markdown",
      "metadata": {
        "id": "view-in-github",
        "colab_type": "text"
      },
      "source": [
        "<a href=\"https://colab.research.google.com/github/pedroviana05/exercicios/blob/main/Aula1_U4.ipynb\" target=\"_parent\"><img src=\"https://colab.research.google.com/assets/colab-badge.svg\" alt=\"Open In Colab\"/></a>"
      ]
    },
    {
      "cell_type": "code",
      "execution_count": 1,
      "metadata": {
        "id": "eVdCQMqt47IO"
      },
      "outputs": [],
      "source": [
        "# criando uma pagina HTML usando python\n",
        "html_code = \"\"\"\n",
        "<!DOCTYPE html>\n",
        "<html>\n",
        "<head>\n",
        "  <title>Exemplo de Front-end com Python</title>\n",
        "</head>\n",
        "<body>\n",
        "  <h1>Olá, mundo!</h1>\n",
        "  <p>Esta é uma pagina web criada usando Python no Google Colab.</p>\n",
        "</body>\n",
        "</html>\n",
        "\"\"\"\n"
      ]
    },
    {
      "cell_type": "code",
      "source": [
        "from IPython.display import HTML\n",
        "HTML(html_code)"
      ],
      "metadata": {
        "colab": {
          "base_uri": "https://localhost:8080/",
          "height": 100
        },
        "id": "v13_n9E55mFR",
        "outputId": "15d8f6c4-fbce-43ff-ccff-f491c0859508"
      },
      "execution_count": 2,
      "outputs": [
        {
          "output_type": "execute_result",
          "data": {
            "text/plain": [
              "<IPython.core.display.HTML object>"
            ],
            "text/html": [
              "\n",
              "<!DOCTYPE html>\n",
              "<html>\n",
              "<head>\n",
              "  <title>Exemplo de Front-end com Python</title>\n",
              "</head>\n",
              "<body>\n",
              "  <h1>Olá, mundo!</h1>\n",
              "  <p>Esta é uma pagina web criada usando Python no Google Colab.</p>\n",
              "</body>\n",
              "</html>\n"
            ]
          },
          "metadata": {},
          "execution_count": 2
        }
      ]
    },
    {
      "cell_type": "code",
      "source": [
        "\n",
        "\n",
        "\n",
        "\n",
        "\n",
        "\n",
        "\n",
        "\n",
        "\n",
        "\n",
        "\n",
        "\n",
        "\n",
        "\n",
        "\n",
        "\n",
        "\n",
        "\n",
        "\n",
        "\n",
        "\n",
        "\n",
        "\n"
      ],
      "metadata": {
        "id": "eAkT-lKC73Ei"
      },
      "execution_count": null,
      "outputs": []
    },
    {
      "cell_type": "code",
      "source": [
        "from IPython.display import HTML\n",
        "html_code = \"\"\"\n",
        "<!DOCTYPE html>\n",
        "<html lang=\"en\">\n",
        "<head>\n",
        "    <!-- Definindo a codificação e a viewport para dispositivos móveis -->\n",
        "    <meta charset=\"UTF-8\">\n",
        "    <meta name=\"viewport\" content=\"width=device-width, initial-scale=1.0\">\n",
        "    <title>Meu Perfil</title>\n",
        "</head>\n",
        "<body style=\"font-family: Arial, sans-serif; background-color: #f8f8f8; margin: 0; padding: 0;\">\n",
        "\n",
        "    <!-- Cabeçalho da Pagina -->\n",
        "    <header style=\"text-align: center; background-color: #3498db; color: #fff; padding: 20px;\">\n",
        "        <!-- Titulo principal -->\n",
        "        <h1 style=\"margin: 0;\">Pedro Augusto Viana Santos</h1>\n",
        "        <!-- Descrição -->\n",
        "        <p style=\"margin: 5px 0;\">Desenvolvedor Web</p>\n",
        "    </header>\n",
        "\n",
        "    <!-- Seção de Informações Pessoais -->\n",
        "    <section style=\"margin: 20px; text-align: center;\">\n",
        "        <!-- Imagem com estilos -->\n",
        "        <img src = \"content/sua_foto.jpg\" alt = \"Sua foto\" style=\"border-radius: 50%; margin-bottom: 20px;\">\n",
        "        <!-- Informções pessoais -->\n",
        "      <div id=\"Indormações-pessoais\" style=\"max-width: 400px; margin: 0 auto;\">\n",
        "        <p>Cidade: Tatui <p/>\n",
        "        <p>Pais: Brasil </p>\n",
        "        <p> Interesses: Web Develotment, Programção, etc.</p>\n",
        "      </div>\n",
        "     </section>\n",
        "\n",
        "     <!-- Seção de Habilidades -->\n",
        "     <section style=\"margin: 20px; text-align: center;\">\n",
        "         <!-- Titulo da seção -->\n",
        "         <h2>Habilidades</h2>\n",
        "         <!-- Lista de Habilidades -->\n",
        "         <ul style=\"list-style: none; padding: 0;>\n",
        "         <li>Linguagens: Python< HTML, CSS, JavaScript</li>\n",
        "         <li>Ferramentas: Git, VS Code</li>\n",
        "        </ul>\n",
        "      <section>\n",
        "\n",
        "      <!-- Seção de Projetos Recentes -->\n",
        "      <section style=\"margin: 20px; text-align: center;\">\n",
        "          <!-- Titulo Do Projeto recente-->\n",
        "          <h2>Projetos</h2>\n",
        "          <!-- Descrição do projeto -->\n",
        "          <p> Trabalhando em um site pessoal para mostrar meu portfólio</p>\n",
        "      </section>\n",
        "\n",
        "      <!-- Rodapé da Pagina -->\n",
        "      <footer style=text-aling: center; margin-top: 20px;>\n",
        "          <!-- Link para LinkedIn -->\n",
        "          <a href=\"https://www.youtube.com/\" target=\"_blank\" style=\"margin: 0 10px; color: #3498db; text-decoration: none;\">LinkedIN</a>\n",
        "          <section style=\"margin: 20px; text-align: center;\">\n",
        "      </footer>\n",
        "</body>\n",
        "</html>\n",
        "\n",
        "\"\"\"\n",
        "#exibindo a pagina HTML\n",
        "HTML(html_code)"
      ],
      "metadata": {
        "colab": {
          "resources": {
            "http://localhost:8080/content/sua_foto.jpg": {
              "data": "",
              "ok": false,
              "headers": [
                [
                  "content-length",
                  "0"
                ]
              ],
              "status": 404,
              "status_text": ""
            }
          },
          "base_uri": "https://localhost:8080/",
          "height": 417
        },
        "id": "1G1IodSk73x4",
        "outputId": "e12fd5a5-e870-4c7a-8f80-068e6899196c"
      },
      "execution_count": 13,
      "outputs": [
        {
          "output_type": "execute_result",
          "data": {
            "text/plain": [
              "<IPython.core.display.HTML object>"
            ],
            "text/html": [
              "\n",
              "<!DOCTYPE html>\n",
              "<html lang=\"en\">\n",
              "<head>\n",
              "    <!-- Definindo a codificação e a viewport para dispositivos móveis -->\n",
              "    <meta charset=\"UTF-8\">\n",
              "    <meta name=\"viewport\" content=\"width=device-width, initial-scale=1.0\">\n",
              "    <title>Meu Perfil</title>\n",
              "</head>\n",
              "<body style=\"font-family: Arial, sans-serif; background-color: #f8f8f8; margin: 0; padding: 0;\">\n",
              "    \n",
              "    <!-- Cabeçalho da Pagina -->\n",
              "    <header style=\"text-align: center; background-color: #3498db; color: #fff; padding: 20px;\">\n",
              "        <!-- Titulo principal -->\n",
              "        <h1 style=\"margin: 0;\">Pedro Augusto Viana Santos</h1>\n",
              "        <!-- Descrição -->\n",
              "        <p style=\"margin: 5px 0;\">Desenvolvedor Web</p>\n",
              "    </header>\n",
              "\n",
              "    <!-- Seção de Informações Pessoais -->\n",
              "    <section style=\"margin: 20px; text-align: center;\">\n",
              "        <!-- Imagem com estilos -->\n",
              "        <img src = \"content/sua_foto.jpg\" alt = \"Sua foto\" style=\"border-radius: 50%; margin-bottom: 20px;\">\n",
              "        <!-- Informções pessoais -->\n",
              "      <div id=\"Indormações-pessoais\" style=\"max-width: 400px; margin: 0 auto;\">\n",
              "        <p>Cidade: Tatui <p/>\n",
              "        <p>Pais: Brasil </p>\n",
              "        <p> Interesses: Web Develotment, Programção, etc.</p>\n",
              "      </div>\n",
              "     </section>\n",
              "\n",
              "     <!-- Seção de Habilidades -->\n",
              "     <section style=\"margin: 20px; text-align: center;\">\n",
              "         <!-- Titulo da seção -->\n",
              "         <h2>Habilidades</h2>\n",
              "         <!-- Lista de Habilidades -->\n",
              "         <ul style=\"list-style: none; padding: 0;> \n",
              "         <li>Linguagens: Python< HTML, CSS, JavaScript</li>\n",
              "         <li>Ferramentas: Git, VS Code</li>\n",
              "        </ul>\n",
              "      <section>\n",
              "\n",
              "      <!-- Seção de Projetos Recentes -->\n",
              "      <section style=\"margin: 20px; text-align: center;\">\n",
              "          <!-- Titulo Do Projeto recente-->\n",
              "          <h2>Projetos</h2>\n",
              "          <!-- Descrição do projeto -->\n",
              "          <p> Trabalhando em um site pessoal para mostrar meu portfólio</p>\n",
              "      </section>\n",
              "\n",
              "      <!-- Rodapé da Pagina -->\n",
              "      <footer style=text-aling: center; margin-top: 20px;>\n",
              "          <!-- Link para LinkedIn -->\n",
              "          <a href=\"https://www.youtube.com/\" target=\"_blank\" style=\"margin: 0 10px; color: #3498db; text-decoration: none;\">LinkedIN</a>\n",
              "          <section style=\"margin: 20px; text-align: center;\">\n",
              "      </footer>\n",
              "</body>\n",
              "</html>\n",
              "\n"
            ]
          },
          "metadata": {},
          "execution_count": 13
        }
      ]
    }
  ]
}