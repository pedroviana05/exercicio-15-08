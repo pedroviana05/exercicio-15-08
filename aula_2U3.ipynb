{
  "nbformat": 4,
  "nbformat_minor": 0,
  "metadata": {
    "colab": {
      "provenance": [],
      "authorship_tag": "ABX9TyODpT3V4jcjuAAMwU5Dj8ku",
      "include_colab_link": true
    },
    "kernelspec": {
      "name": "python3",
      "display_name": "Python 3"
    },
    "language_info": {
      "name": "python"
    }
  },
  "cells": [
    {
      "cell_type": "markdown",
      "metadata": {
        "id": "view-in-github",
        "colab_type": "text"
      },
      "source": [
        "<a href=\"https://colab.research.google.com/github/pedroviana05/exercicios/blob/main/aula_2U3.ipynb\" target=\"_parent\"><img src=\"https://colab.research.google.com/assets/colab-badge.svg\" alt=\"Open In Colab\"/></a>"
      ]
    },
    {
      "cell_type": "code",
      "execution_count": null,
      "metadata": {
        "id": "mkYKfYl54sTr"
      },
      "outputs": [],
      "source": [
        "import pandas as pd\n",
        "\n",
        "#criando uma lista de valores\n",
        "exemplo1 = [10, 20, 30, 40, 50]\n",
        "\n",
        "#criando uma series a partir da lista\n",
        "series1 = pd.Series(exemplo1)\n",
        "print(series1)\n",
        "print(exemplo1)\n",
        "\n",
        "\n",
        "\n",
        "\n",
        "\n",
        "\n"
      ]
    },
    {
      "cell_type": "code",
      "source": [
        "import pandas as pd\n",
        "\n",
        "#criando um dicionario com pares chave-valor\n",
        "Exemplo2 = {'A': 100, 'B': 200, 'C': 300, 'D': 400, 'E': 500}\n",
        "\n",
        "#criando uma series a partir do dicionario\n",
        "series2 = pd.Series(Exemplo2)\n",
        "print(series2)\n",
        "print(Exemplo2)\n",
        "\n",
        "\n",
        "\n",
        "\n",
        "\n",
        "\n",
        "\n"
      ],
      "metadata": {
        "colab": {
          "base_uri": "https://localhost:8080/"
        },
        "id": "uIfBWPnh5cUj",
        "outputId": "1097d362-64c2-4459-8c9c-e86162371718"
      },
      "execution_count": 3,
      "outputs": [
        {
          "output_type": "stream",
          "name": "stdout",
          "text": [
            "A    100\n",
            "B    200\n",
            "C    300\n",
            "D    400\n",
            "E    500\n",
            "dtype: int64\n",
            "{'A': 100, 'B': 200, 'C': 300, 'D': 400, 'E': 500}\n"
          ]
        }
      ]
    },
    {
      "cell_type": "code",
      "source": [
        "import pandas as pd\n",
        "url = 'https://www.fdic.gov/resources/resolutions/bank-failures/failed-bank-list/'\n",
        "dfs = pd.read_html(url)\n",
        "print(type(dfs))\n",
        "print(len(dfs))"
      ],
      "metadata": {
        "colab": {
          "base_uri": "https://localhost:8080/"
        },
        "id": "cxZR2n6467Qi",
        "outputId": "1e50dcde-92c4-4c5f-de62-a56e35bc7516"
      },
      "execution_count": 4,
      "outputs": [
        {
          "output_type": "stream",
          "name": "stdout",
          "text": [
            "<class 'list'>\n",
            "1\n"
          ]
        }
      ]
    },
    {
      "cell_type": "code",
      "source": [
        "df_bancos = dfs[0]"
      ],
      "metadata": {
        "id": "Xk0Kynew7gpH"
      },
      "execution_count": 5,
      "outputs": []
    },
    {
      "cell_type": "code",
      "source": [
        "print(df_bancos.shape)"
      ],
      "metadata": {
        "colab": {
          "base_uri": "https://localhost:8080/"
        },
        "id": "SEHaLCml7mds",
        "outputId": "8325f4de-0258-4d3b-b2f5-887ed6c2b179"
      },
      "execution_count": 6,
      "outputs": [
        {
          "output_type": "stream",
          "name": "stdout",
          "text": [
            "(10, 7)\n"
          ]
        }
      ]
    },
    {
      "cell_type": "code",
      "source": [
        "print(df_bancos.dtypes)"
      ],
      "metadata": {
        "colab": {
          "base_uri": "https://localhost:8080/"
        },
        "id": "cW4hs_jo7q7m",
        "outputId": "6dc5dc85-7ba1-458d-90bc-10775eeccd9a"
      },
      "execution_count": 7,
      "outputs": [
        {
          "output_type": "stream",
          "name": "stdout",
          "text": [
            "Bank Name               object\n",
            "City                    object\n",
            "State                   object\n",
            "Cert                     int64\n",
            "Aquiring Institution    object\n",
            "Closing Date            object\n",
            "Fund                     int64\n",
            "dtype: object\n"
          ]
        }
      ]
    },
    {
      "cell_type": "code",
      "source": [
        "df_bancos.head()"
      ],
      "metadata": {
        "id": "68vZSsum7uHF"
      },
      "execution_count": null,
      "outputs": []
    },
    {
      "cell_type": "code",
      "source": [
        "\n",
        "\n",
        "\n",
        "\n",
        "\n",
        "\n",
        "\n",
        "\n",
        "\n",
        "\n",
        "\n",
        "\n",
        "\n",
        "\n",
        "\n",
        "\n",
        "\n"
      ],
      "metadata": {
        "id": "UpffaHWb8Tzz"
      },
      "execution_count": null,
      "outputs": []
    },
    {
      "cell_type": "code",
      "source": [
        "import pandas as pd\n",
        "\n",
        "#criar um dicionario com nomes e idades\n",
        "dados = {'Nome': ['Alice', 'Bob', 'Charlie', 'David', 'Eve'],\n",
        "         'Idade': [25, 30, 35, 66, 22]\n",
        "}\n",
        "#criar uma série a partir do dicionario\n",
        "serie_idades  = pd.Series(dados['Idade'], index=dados['Nome'])\n",
        "#exibir a serie de idades\n",
        "print(\"Série de idades:\")\n",
        "print(serie_idades)\n",
        "#calcular a média das idades\n",
        "media_idades = serie_idades.mean()\n",
        "print(\"\\nMédia das idades:\", media_idades)\n",
        "\n",
        "#"
      ],
      "metadata": {
        "colab": {
          "base_uri": "https://localhost:8080/"
        },
        "id": "M-hf9cI38Ung",
        "outputId": "53ba31fb-085d-468a-edd1-2c25619322b8"
      },
      "execution_count": 10,
      "outputs": [
        {
          "output_type": "stream",
          "name": "stdout",
          "text": [
            "Série de idades:\n",
            "Alice      25\n",
            "Bob        30\n",
            "Charlie    35\n",
            "David      66\n",
            "Eve        22\n",
            "dtype: int64\n",
            "\n",
            "Média das idades: 35.6\n"
          ]
        }
      ]
    }
  ]
}