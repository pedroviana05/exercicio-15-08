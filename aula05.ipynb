{
  "nbformat": 4,
  "nbformat_minor": 0,
  "metadata": {
    "colab": {
      "provenance": [],
      "authorship_tag": "ABX9TyMg/U6XvINTKvQ4lMEl1Rqd",
      "include_colab_link": true
    },
    "kernelspec": {
      "name": "python3",
      "display_name": "Python 3"
    },
    "language_info": {
      "name": "python"
    }
  },
  "cells": [
    {
      "cell_type": "markdown",
      "metadata": {
        "id": "view-in-github",
        "colab_type": "text"
      },
      "source": [
        "<a href=\"https://colab.research.google.com/github/pedroviana05/exercicios/blob/main/aula05.ipynb\" target=\"_parent\"><img src=\"https://colab.research.google.com/assets/colab-badge.svg\" alt=\"Open In Colab\"/></a>"
      ]
    },
    {
      "cell_type": "code",
      "execution_count": null,
      "metadata": {
        "id": "4IKgDPtmCQyG"
      },
      "outputs": [],
      "source": [
        "# Calculadora de desconto\n",
        "\n",
        "# solicita ao usuário que insira o valor do produto e o percentual de desconto\n",
        "valor_produto = float(input(\"digite o valor do produto: R$ \"))\n",
        "percentual_desconto = float(input(\"digite o percentual de desconto: \"))\n",
        "\n",
        "# verifica se o percentual de desconto esta dentro dos limites aceitaveis (0=100%)\n",
        "if percentual_desconto < 0 or percentual_desconto > 70:\n",
        "  print(\"Erro: O percentual de desconto deve estar entre 0% e 100%\")\n",
        "\n",
        "\n",
        "else:\n",
        "  # Calcula o valor do desconto\n",
        "  desconto = valor_produto * (percentual_desconto / 100)\n",
        "\n",
        "  #Calcula o valor final da compra\n",
        "valor_final = valor_produto - desconto\n",
        "\n",
        "# exibe o valor final da compra\n",
        "print(f\"Valor com desconto: R$ {valor_final:.2f}\")"
      ]
    },
    {
      "cell_type": "code",
      "source": [
        "#calculadora com looping\n",
        "def obter_desconto_valido():\n",
        "    while True:\n",
        "        try:\n",
        "            entrada = input(\"Por favor, insira o desconto desejado (em %): \")\n",
        "            desconto = float(entrada)  # Convertendo a entrada para um número float\n",
        "\n",
        "            if 0 <= desconto <= 80:\n",
        "                return desconto\n",
        "            else:\n",
        "                print(\"O desconto deve estar entre 0 e 80%. Tente novamente.\")\n",
        "\n",
        "        except ValueError:\n",
        "            print(\"Entrada inválida. Por favor, insira um número válido.\")\n",
        "\n",
        "def calcular_preco_com_desconto(preco_original, desconto):\n",
        "    preco_final = preco_original * (1 - desconto / 100)\n",
        "    return preco_final\n",
        "\n",
        "# Exemplo de uso\n",
        "preco_original = 90\n",
        "print(f\"Preço original: R${preco_original:.2f}\")\n",
        "\n",
        "desconto_valido = obter_desconto_valido()\n",
        "preco_final = calcular_preco_com_desconto(preco_original, desconto_valido)\n",
        "\n",
        "print(f\"Desconto aplicado: {desconto_valido}%\")\n",
        "print(f\"Preço final com desconto: R${preco_final:.2f}\")\n"
      ],
      "metadata": {
        "colab": {
          "base_uri": "https://localhost:8080/"
        },
        "id": "MzWPKBu1N27u",
        "outputId": "f14eb062-d57a-4b11-dad5-0fc94466e427"
      },
      "execution_count": 51,
      "outputs": [
        {
          "output_type": "stream",
          "name": "stdout",
          "text": [
            "Preço original: R$90.00\n",
            "Por favor, insira o desconto desejado (em %): 90\n",
            "O desconto deve estar entre 0 e 80%. Tente novamente.\n",
            "Por favor, insira o desconto desejado (em %): 90\n",
            "O desconto deve estar entre 0 e 80%. Tente novamente.\n",
            "Por favor, insira o desconto desejado (em %): 90\n",
            "O desconto deve estar entre 0 e 80%. Tente novamente.\n",
            "Por favor, insira o desconto desejado (em %): 90.6\n",
            "O desconto deve estar entre 0 e 80%. Tente novamente.\n",
            "Por favor, insira o desconto desejado (em %): 79.9\n",
            "Desconto aplicado: 79.9%\n",
            "Preço final com desconto: R$18.09\n"
          ]
        }
      ]
    },
    {
      "cell_type": "code",
      "source": [],
      "metadata": {
        "id": "fDiFK802F9ee"
      },
      "execution_count": null,
      "outputs": []
    }
  ]
}