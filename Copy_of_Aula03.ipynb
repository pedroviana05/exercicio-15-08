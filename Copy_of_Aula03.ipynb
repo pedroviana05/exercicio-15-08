{
  "nbformat": 4,
  "nbformat_minor": 0,
  "metadata": {
    "colab": {
      "provenance": [],
      "authorship_tag": "ABX9TyMxcedy6dp4fZ+i4GLruU15",
      "include_colab_link": true
    },
    "kernelspec": {
      "name": "python3",
      "display_name": "Python 3"
    },
    "language_info": {
      "name": "python"
    }
  },
  "cells": [
    {
      "cell_type": "markdown",
      "metadata": {
        "id": "view-in-github",
        "colab_type": "text"
      },
      "source": [
        "<a href=\"https://colab.research.google.com/github/pedroviana05/exercicios/blob/main/Copy_of_Aula03.ipynb\" target=\"_parent\"><img src=\"https://colab.research.google.com/assets/colab-badge.svg\" alt=\"Open In Colab\"/></a>"
      ]
    },
    {
      "cell_type": "code",
      "execution_count": null,
      "metadata": {
        "colab": {
          "base_uri": "https://localhost:8080/"
        },
        "id": "lJw0jjgqiJTV",
        "outputId": "a983bf6e-fea0-4043-9060-dfd192f7f53b"
      },
      "outputs": [
        {
          "output_type": "execute_result",
          "data": {
            "text/plain": [
              "[1, 2, 3, 4, 5]"
            ]
          },
          "metadata": {},
          "execution_count": 2
        }
      ],
      "source": [
        "numeros = [1, 2, 3, 4, 5]\n",
        "numeros\n"
      ]
    },
    {
      "cell_type": "code",
      "source": [
        "for num in numeros:\n",
        "  print(num)"
      ],
      "metadata": {
        "colab": {
          "base_uri": "https://localhost:8080/"
        },
        "id": "73_t4vK6jBIr",
        "outputId": "a9ef5005-0439-4de2-9463-fd6bb6c25687"
      },
      "execution_count": null,
      "outputs": [
        {
          "output_type": "stream",
          "name": "stdout",
          "text": [
            "1\n",
            "2\n",
            "3\n",
            "4\n",
            "5\n"
          ]
        }
      ]
    },
    {
      "cell_type": "code",
      "source": [
        "#digite um numero e ele dirá se é par ou impar, só irá parar quando o numero for = a 0\n",
        "numero = int(input(\"Digite um número (ou 0 para sair) :\"))\n",
        "\n",
        "while numero != 0:\n",
        "  if numero % 2 == 0:\n",
        "    print(\"O número é par.\")\n",
        "  else:\n",
        "    print(\"O número é ímpar.\")\n",
        "  numero = int(input(\"Digite outro número (ou 0 para sair): \"))\n"
      ],
      "metadata": {
        "id": "ihYrQqlWjbDU"
      },
      "execution_count": null,
      "outputs": []
    },
    {
      "cell_type": "code",
      "source": [
        "for x in range(5): #lembre-se que o range começa em 0 e o limite é 5\n",
        "  print(x)\n"
      ],
      "metadata": {
        "colab": {
          "base_uri": "https://localhost:8080/"
        },
        "id": "KgrfQQyFlHli",
        "outputId": "7152ee0e-4cb8-4d67-ca84-88650be75e76"
      },
      "execution_count": null,
      "outputs": [
        {
          "output_type": "stream",
          "name": "stdout",
          "text": [
            "0\n",
            "1\n",
            "2\n",
            "3\n",
            "4\n"
          ]
        }
      ]
    },
    {
      "cell_type": "code",
      "source": [
        "for y in range(2,7): #observe que aqui o 7 não entra no looping, vai do 02 até o 6 (7 é o limite)\n",
        "  print(y)"
      ],
      "metadata": {
        "colab": {
          "base_uri": "https://localhost:8080/"
        },
        "id": "fYLMppZ7lW6V",
        "outputId": "333b2168-58c2-422a-ba9c-43a159790235"
      },
      "execution_count": null,
      "outputs": [
        {
          "output_type": "stream",
          "name": "stdout",
          "text": [
            "2\n",
            "3\n",
            "4\n",
            "5\n",
            "6\n"
          ]
        }
      ]
    },
    {
      "cell_type": "code",
      "source": [
        "for z in range(1, 11, 2): #observe que aqui o 11 não entra no looping, vai do 1 ao 11 pulando de 2 em 2 (11 é o limite)\n",
        "  print(z)"
      ],
      "metadata": {
        "colab": {
          "base_uri": "https://localhost:8080/"
        },
        "id": "dyENUbV2lxNO",
        "outputId": "f9a91af9-3e04-4de1-87ee-ce03b8c12ad5"
      },
      "execution_count": null,
      "outputs": [
        {
          "output_type": "stream",
          "name": "stdout",
          "text": [
            "1\n",
            "3\n",
            "5\n",
            "7\n",
            "9\n"
          ]
        }
      ]
    },
    {
      "cell_type": "code",
      "source": [
        "#dentre os numeros 1, a 10 (11 é o limite), ele para após o primeiro numero par. (% 2 = divisão do numero por 2 for igual 0)\n",
        "for numero in range(1, 11):\n",
        "  if numero % 2 == 0:\n",
        "    print(\"O primeiro numero par encontrado é:\", numero)\n",
        "    break"
      ],
      "metadata": {
        "colab": {
          "base_uri": "https://localhost:8080/"
        },
        "id": "fc09H7QDmlQ0",
        "outputId": "29800ec9-66e1-46a4-9140-e4118ee42965"
      },
      "execution_count": null,
      "outputs": [
        {
          "output_type": "stream",
          "name": "stdout",
          "text": [
            "O primeiro numero par encontrado é: 2\n"
          ]
        }
      ]
    },
    {
      "cell_type": "code",
      "source": [
        "#dentre os numeros 1, a 10 (11 é o limite), se o numero for = 5, ele pula\n",
        "for numero in range(1, 11):\n",
        "  if numero == 5:\n",
        "    continue\n",
        "  print(numero)"
      ],
      "metadata": {
        "colab": {
          "base_uri": "https://localhost:8080/"
        },
        "id": "yYn-krbGnEaS",
        "outputId": "9f713c16-9a32-433d-e420-34a5db970cac"
      },
      "execution_count": null,
      "outputs": [
        {
          "output_type": "stream",
          "name": "stdout",
          "text": [
            "1\n",
            "2\n",
            "3\n",
            "4\n",
            "6\n",
            "7\n",
            "8\n",
            "9\n",
            "10\n"
          ]
        }
      ]
    },
    {
      "cell_type": "code",
      "source": [
        "from sre_constants import REPEAT\n",
        "#Lista de jogos para classificação\n",
        "jogos = [\"tton\", \"bmw\", \"gow\", \"demonfall\", \"fh5\"]\n",
        "\n",
        "#definir 0 como encerrar\n",
        "\n",
        "\n",
        "# Mensagem de boas vindas\n",
        "print(\"Seja bem-vindo a classificação de jogos!\")\n",
        "print(\"Você tem cinco jogos para classificar.\")\n",
        "print(\"Digite 'encerrar' a qualquer momento para parar.\\n\")\n",
        "\n",
        "# Loop para classificar sobre cada jogo da lista\n",
        "for jogo in jogos:\n",
        "  #solicita a classificação do usuario\n",
        "  classificacao = input(f\"Qual nota você dá para '{jogo}' de 1 a 10? (ou encerrar para parar): \")\n",
        "\n",
        "  #verifica se o usuario deseja parar\n",
        "  if classificacao == 'encerrar':\n",
        "    print(\"Que pena que você nao irá classificar mais os filmes.\")\n",
        "    break # Encerra o loop principal\n",
        "\n",
        "  # Converte a classificação para um numero inteiro\n",
        "  classificacao = int(classificacao)\n",
        "\n",
        "  #verifica se a classificaçao esta dentro do intervalo valido\n",
        "  if classificacao < 1 or classificacao > 11:\n",
        "    print(\"Por favor, digite uma classificação valida de 1 a 10\")\n",
        "  else:\n",
        "      #exibe a classificaçao e passa para o proximo file\n",
        "      print(f\"Você classificou '{jogo}' com nota {classificacao}.\\n\")\n",
        "\n",
        "\n",
        "\n",
        "\n",
        "\n",
        "# mensagem de agradecimento ao finalizar\n",
        "print(\"Obrigado pelas avaliações!\")\n"
      ],
      "metadata": {
        "colab": {
          "base_uri": "https://localhost:8080/"
        },
        "id": "O0C7ZvSIrTN_",
        "outputId": "3b5d2c66-a615-4ae0-e359-3815d333de82"
      },
      "execution_count": null,
      "outputs": [
        {
          "output_type": "stream",
          "name": "stdout",
          "text": [
            "Seja bem-vindo a classificação de jogos!\n",
            "Você tem cinco jogos para classificar.\n",
            "Digite 'encerrar' a qualquer momento para parar.\n",
            "\n",
            "Qual nota você dá para 'tton' de 1 a 10? (ou encerrar para parar): 8\n",
            "Você classificou 'tton' com nota 8.\n",
            "\n",
            "Qual nota você dá para 'bmw' de 1 a 10? (ou encerrar para parar): 10\n",
            "Você classificou 'bmw' com nota 10.\n",
            "\n",
            "Qual nota você dá para 'gow' de 1 a 10? (ou encerrar para parar): 2\n",
            "Você classificou 'gow' com nota 2.\n",
            "\n",
            "Qual nota você dá para 'demonfall' de 1 a 10? (ou encerrar para parar): 3\n",
            "Você classificou 'demonfall' com nota 3.\n",
            "\n",
            "Qual nota você dá para 'fh5' de 1 a 10? (ou encerrar para parar): 6\n",
            "Você classificou 'fh5' com nota 6.\n",
            "\n",
            "Obrigado pelas avaliações!\n"
          ]
        }
      ]
    },
    {
      "cell_type": "code",
      "source": [],
      "metadata": {
        "id": "eT8QJGNF3Exh"
      },
      "execution_count": null,
      "outputs": []
    }
  ]
}