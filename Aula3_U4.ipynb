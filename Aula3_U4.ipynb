{
  "nbformat": 4,
  "nbformat_minor": 0,
  "metadata": {
    "colab": {
      "provenance": [],
      "authorship_tag": "ABX9TyMg/wp5STMJFrjRw+k8LIzF",
      "include_colab_link": true
    },
    "kernelspec": {
      "name": "python3",
      "display_name": "Python 3"
    },
    "language_info": {
      "name": "python"
    }
  },
  "cells": [
    {
      "cell_type": "markdown",
      "metadata": {
        "id": "view-in-github",
        "colab_type": "text"
      },
      "source": [
        "<a href=\"https://colab.research.google.com/github/pedroviana05/exercicios/blob/main/Aula3_U4.ipynb\" target=\"_parent\"><img src=\"https://colab.research.google.com/assets/colab-badge.svg\" alt=\"Open In Colab\"/></a>"
      ]
    },
    {
      "cell_type": "code",
      "execution_count": 37,
      "metadata": {
        "id": "8QEs75JIp7dM",
        "colab": {
          "base_uri": "https://localhost:8080/"
        },
        "outputId": "f124ed5d-8bd9-4738-bf01-2ec7521b988a"
      },
      "outputs": [
        {
          "output_type": "stream",
          "name": "stdout",
          "text": [
            "3.0\n"
          ]
        }
      ],
      "source": [
        "def divide(x, y):\n",
        "  assert y != 0, \"Divisão por zero!\"\n",
        "  return x / y\n",
        "\n",
        "result = divide(6, 2)\n",
        "print(result)"
      ]
    },
    {
      "cell_type": "code",
      "source": [
        "def calcular_media(notas):\n",
        "  assert len(notas) > 0, \"A lista de notas não pode estar vazia.\"\n",
        "\n",
        "  soma = sum(notas)\n",
        "  media = soma / len(notas)\n",
        "  return media"
      ],
      "metadata": {
        "id": "y21Ekm3nqiMv"
      },
      "execution_count": 6,
      "outputs": []
    },
    {
      "cell_type": "code",
      "source": [
        "#exemplo 1: Lista de notas vazia\n",
        "notas_vazias = []\n",
        "media_vazia = calcular_media(notas_vazias) #isso lançara uma assertion error\n"
      ],
      "metadata": {
        "id": "Zaeo8Se5qqMt",
        "colab": {
          "base_uri": "https://localhost:8080/",
          "height": 314
        },
        "outputId": "c4720dbb-f4a3-4430-f0e0-758f2d101172"
      },
      "execution_count": 10,
      "outputs": [
        {
          "output_type": "error",
          "ename": "AssertionError",
          "evalue": "A lista de notas não pode estar vazia.",
          "traceback": [
            "\u001b[0;31m---------------------------------------------------------------------------\u001b[0m",
            "\u001b[0;31mAssertionError\u001b[0m                            Traceback (most recent call last)",
            "\u001b[0;32m<ipython-input-10-f95b8fb90ec1>\u001b[0m in \u001b[0;36m<cell line: 3>\u001b[0;34m()\u001b[0m\n\u001b[1;32m      1\u001b[0m \u001b[0;31m#exemplo 1: Lista de notas vazia\u001b[0m\u001b[0;34m\u001b[0m\u001b[0;34m\u001b[0m\u001b[0m\n\u001b[1;32m      2\u001b[0m \u001b[0mnotas_vazias\u001b[0m \u001b[0;34m=\u001b[0m \u001b[0;34m[\u001b[0m\u001b[0;34m]\u001b[0m\u001b[0;34m\u001b[0m\u001b[0;34m\u001b[0m\u001b[0m\n\u001b[0;32m----> 3\u001b[0;31m \u001b[0mmedia_vazia\u001b[0m \u001b[0;34m=\u001b[0m \u001b[0mcalcular_media\u001b[0m\u001b[0;34m(\u001b[0m\u001b[0mnotas_vazias\u001b[0m\u001b[0;34m)\u001b[0m \u001b[0;31m#isso lançara uma assertion error\u001b[0m\u001b[0;34m\u001b[0m\u001b[0;34m\u001b[0m\u001b[0m\n\u001b[0m",
            "\u001b[0;32m<ipython-input-6-b32488fa8dc5>\u001b[0m in \u001b[0;36mcalcular_media\u001b[0;34m(notas)\u001b[0m\n\u001b[1;32m      1\u001b[0m \u001b[0;32mdef\u001b[0m \u001b[0mcalcular_media\u001b[0m\u001b[0;34m(\u001b[0m\u001b[0mnotas\u001b[0m\u001b[0;34m)\u001b[0m\u001b[0;34m:\u001b[0m\u001b[0;34m\u001b[0m\u001b[0;34m\u001b[0m\u001b[0m\n\u001b[0;32m----> 2\u001b[0;31m   \u001b[0;32massert\u001b[0m \u001b[0mlen\u001b[0m\u001b[0;34m(\u001b[0m\u001b[0mnotas\u001b[0m\u001b[0;34m)\u001b[0m \u001b[0;34m>\u001b[0m \u001b[0;36m0\u001b[0m\u001b[0;34m,\u001b[0m \u001b[0;34m\"A lista de notas não pode estar vazia.\"\u001b[0m\u001b[0;34m\u001b[0m\u001b[0;34m\u001b[0m\u001b[0m\n\u001b[0m\u001b[1;32m      3\u001b[0m \u001b[0;34m\u001b[0m\u001b[0m\n\u001b[1;32m      4\u001b[0m   \u001b[0msoma\u001b[0m \u001b[0;34m=\u001b[0m \u001b[0msum\u001b[0m\u001b[0;34m(\u001b[0m\u001b[0mnotas\u001b[0m\u001b[0;34m)\u001b[0m\u001b[0;34m\u001b[0m\u001b[0;34m\u001b[0m\u001b[0m\n\u001b[1;32m      5\u001b[0m   \u001b[0mmedia\u001b[0m \u001b[0;34m=\u001b[0m \u001b[0msoma\u001b[0m \u001b[0;34m/\u001b[0m \u001b[0mlen\u001b[0m\u001b[0;34m(\u001b[0m\u001b[0mnotas\u001b[0m\u001b[0;34m)\u001b[0m\u001b[0;34m\u001b[0m\u001b[0;34m\u001b[0m\u001b[0m\n",
            "\u001b[0;31mAssertionError\u001b[0m: A lista de notas não pode estar vazia."
          ]
        }
      ]
    },
    {
      "cell_type": "code",
      "source": [
        "#exemplo 2: lista de notas valida\n",
        "notas_validas = [7.5, 8.0, 9.2, 6.8]\n",
        "media_valida = calcular_media(notas_validas) #isso funcionara corretamente\n",
        "print(media_valida)"
      ],
      "metadata": {
        "id": "bhlBRWndq18P",
        "colab": {
          "base_uri": "https://localhost:8080/"
        },
        "outputId": "cfb9a26c-62ff-454b-c690-e9453260be1c"
      },
      "execution_count": 12,
      "outputs": [
        {
          "output_type": "stream",
          "name": "stdout",
          "text": [
            "7.875\n"
          ]
        }
      ]
    },
    {
      "cell_type": "code",
      "source": [
        "\n",
        "\n",
        "\n",
        "\n",
        "\n",
        "\n",
        "\n",
        "\n",
        "\n",
        "\n",
        "\n",
        "\n",
        "\n",
        "\n",
        "\n",
        "\n"
      ],
      "metadata": {
        "id": "zxy-Px_UsEhL"
      },
      "execution_count": null,
      "outputs": []
    },
    {
      "cell_type": "code",
      "source": [
        "def square(x):\n",
        "    \"\"\"\n",
        "    Retorna o quadrado de um número.\n",
        "\n",
        "    Exemplos:\n",
        "    >>> square(3)\n",
        "    9\n",
        "    >>> square(-2)\n",
        "    4\n",
        "    >>> square(0)\n",
        "    1\n",
        "    \"\"\"\n",
        "    return x * x\n",
        "import doctest\n",
        "doctest.testmod()\n",
        "\n",
        "#a função squrare é acompanhada por uma string de documentação que inclui exemplos de uso.\n",
        "#esses exemplos estao formados de maneira especial, usando o prompt>>>, uqe indica um bloco de codigo python.\n",
        "\n",
        "#no caso do exemplo, doctest.testmod() executara a função square(4),\n",
        "#verificara se o resultado é igual a 16, executara square (5) e verificara se o resultado é 25, e assim por diante\n",
        "\n",
        "#se todos os testes passarem, doctest nao produzira nenhuma saida\n",
        "#se houver uma discrepancia entre a saida real e a esperada, doctest imprimira uma mensagem indicando onde ocorreu o problema\n",
        "\n",
        "#a principal vantagem do docteste é que ele permite que voce mantenha exemplos na documentação e, oa mesmo tmepo, use esses exemplos como testes automatizados\n",
        "#isso ajuda a garantir que a documentação esteja sempre em sincronia com o codigo real"
      ],
      "metadata": {
        "colab": {
          "base_uri": "https://localhost:8080/"
        },
        "id": "2EmHUdNDsFQZ",
        "outputId": "4b2bb35b-d609-4e8b-b0aa-253f2e0ed289"
      },
      "execution_count": 17,
      "outputs": [
        {
          "output_type": "stream",
          "name": "stdout",
          "text": [
            "**********************************************************************\n",
            "File \"__main__\", line 10, in __main__.square\n",
            "Failed example:\n",
            "    square(0)\n",
            "Expected:\n",
            "    1\n",
            "Got:\n",
            "    0\n",
            "**********************************************************************\n",
            "1 items had failures:\n",
            "   1 of   3 in __main__.square\n",
            "***Test Failed*** 1 failures.\n"
          ]
        },
        {
          "output_type": "execute_result",
          "data": {
            "text/plain": [
              "TestResults(failed=1, attempted=3)"
            ]
          },
          "metadata": {},
          "execution_count": 17
        }
      ]
    },
    {
      "cell_type": "code",
      "source": [
        "\n",
        "\n",
        "\n",
        "\n",
        "\n",
        "\n",
        "\n",
        "\n",
        "\n"
      ],
      "metadata": {
        "id": "KthqLPsLvNs5"
      },
      "execution_count": null,
      "outputs": []
    },
    {
      "cell_type": "code",
      "source": [
        "import unittest\n",
        "\n",
        "def add(a, b):\n",
        "    return a + b\n",
        "\n",
        "class TestAddition(unittest.TestCase):\n",
        "    def test_add_positive_numbers(self):\n",
        "      self.assertEqual(add(2, 3), 5)\n",
        "\n",
        "      def test_add_negative_numbers(self):\n",
        "        self.assertEqual(add(-2, -3), -5)\n",
        "\n",
        "if __name__ == '__main__':\n",
        "    import unittest\n",
        "    unittest.main(argv=['firt-arg-is-ignored'], exit=False)\n",
        "    print(\"Os testes foram executados com sucesso!\")\n",
        "\n",
        "    #a função add simplesmente soma dois numeros, cria uma classe que herda de unittest.Testcase\n",
        "    #isso indica que essa classe contem testes unitarios.\n",
        "    #dentro de classe de teste, voce define metodos de teste\n",
        "    #cada metodo de teste deve começar com a palavra-chave test.\n",
        "    #Dentro desses metoods, voce usa assertivas (como self.assertEqual) para verificar se o comportamento esperado do codigo é atendido\n",
        "    # a condiçãp if__name__ == '__main__': garante que a suite de teste seja executada somente se o script for executado diretamente\n",
        "    # nao se for importado como um modulo em outro script. unittest.main() executa todos os testes definidos na classe TestAddition."
      ],
      "metadata": {
        "colab": {
          "base_uri": "https://localhost:8080/"
        },
        "id": "k5SFX2RXvOLX",
        "outputId": "ab5adb76-f355-4c43-bf90-914aba025913"
      },
      "execution_count": 19,
      "outputs": [
        {
          "output_type": "stream",
          "name": "stderr",
          "text": [
            ".\n",
            "----------------------------------------------------------------------\n",
            "Ran 1 test in 0.003s\n",
            "\n",
            "OK\n"
          ]
        },
        {
          "output_type": "stream",
          "name": "stdout",
          "text": [
            "Os testes foram executados com sucesso!\n"
          ]
        }
      ]
    },
    {
      "cell_type": "code",
      "source": [
        "\n",
        "\n",
        "\n"
      ],
      "metadata": {
        "id": "BBSKGoPpxeDx"
      },
      "execution_count": null,
      "outputs": []
    },
    {
      "cell_type": "code",
      "source": [
        "#assert\n",
        "def sum_numbers(numbers):\n",
        "  assert sum([1, 2, 3, 4]) == 10\n",
        "  assert sum([-1, 0, 1]) == 0\n",
        "  assert sum([]) == 0\n",
        "  return sum(numbers)\n",
        "teste = sum_numbers([1, 2, 3, 5])\n",
        "print(teste)"
      ],
      "metadata": {
        "colab": {
          "base_uri": "https://localhost:8080/"
        },
        "id": "hdgpTPQzxetI",
        "outputId": "d46be463-83df-45f2-cda5-c09167c3f500"
      },
      "execution_count": 34,
      "outputs": [
        {
          "output_type": "stream",
          "name": "stdout",
          "text": [
            "11\n"
          ]
        }
      ]
    },
    {
      "cell_type": "code",
      "source": [
        "#doctest\n",
        "def sum_numbers(numbers):\n",
        "  \"\"\"\n",
        "  Soma os numeros em uma lista\n",
        "\n",
        "  Exemplos:\n",
        "  >>> sum_numbers([1, 2, 3, 4])\n",
        "  10\n",
        "  >>> sum_numbers([-1, 0, 1])\n",
        "  0\n",
        "  >>> sum_numbers([])\n",
        "  0\n",
        "  \"\"\"\n",
        "  return sum(numbers)\n",
        "\n",
        "if __name__ == '__main__':\n",
        "  import doctest\n",
        "  doctest.testmod()"
      ],
      "metadata": {
        "colab": {
          "base_uri": "https://localhost:8080/"
        },
        "id": "xlID1o2lx19b",
        "outputId": "a1c15c47-79e7-4c4b-9e14-29b9775f3931"
      },
      "execution_count": 26,
      "outputs": [
        {
          "output_type": "stream",
          "name": "stdout",
          "text": [
            "**********************************************************************\n",
            "File \"__main__\", line 10, in __main__.square\n",
            "Failed example:\n",
            "    square(0)\n",
            "Expected:\n",
            "    1\n",
            "Got:\n",
            "    0\n",
            "**********************************************************************\n",
            "1 items had failures:\n",
            "   1 of   3 in __main__.square\n",
            "***Test Failed*** 1 failures.\n"
          ]
        }
      ]
    },
    {
      "cell_type": "code",
      "source": [
        "#unittest\n",
        "import unittest\n",
        "def sum_numbers(numbers):\n",
        "    return sum(numbers)\n",
        "\n",
        "class TestSumNumbers(unittest.TestCase):\n",
        "    def test_sum_positive_numbers(self):\n",
        "        self.assertEqual(sum_numbers([1, 2, 3, 4]), 10)\n",
        "\n",
        "    def test_sum_negative_numbers(self):\n",
        "        self.assertEqual(sum_numbers([-1, 0, 1]), 0)\n",
        "\n",
        "    def test_sum_empty_list(self):\n",
        "        self.assertEqual(sum_numbers([]), 0)\n",
        "\n",
        "if __name__ == '__main__':\n",
        "    unittest.main(argv=['first-arg-is-ignored'], exit=False)"
      ],
      "metadata": {
        "colab": {
          "base_uri": "https://localhost:8080/"
        },
        "id": "zc6vA7AOydOn",
        "outputId": "70dfa7a8-c779-44bc-c375-37e06786d079"
      },
      "execution_count": 25,
      "outputs": [
        {
          "output_type": "stream",
          "name": "stderr",
          "text": [
            "....\n",
            "----------------------------------------------------------------------\n",
            "Ran 4 tests in 0.011s\n",
            "\n",
            "OK\n"
          ]
        }
      ]
    }
  ]
}