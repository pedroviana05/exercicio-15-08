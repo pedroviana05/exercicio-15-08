{
  "nbformat": 4,
  "nbformat_minor": 0,
  "metadata": {
    "colab": {
      "provenance": [],
      "authorship_tag": "ABX9TyPpCT1QmJA3XN8bmyFFjKi0",
      "include_colab_link": true
    },
    "kernelspec": {
      "name": "python3",
      "display_name": "Python 3"
    },
    "language_info": {
      "name": "python"
    }
  },
  "cells": [
    {
      "cell_type": "markdown",
      "metadata": {
        "id": "view-in-github",
        "colab_type": "text"
      },
      "source": [
        "<a href=\"https://colab.research.google.com/github/pedroviana05/exercicios/blob/main/aula01_unidade02.ipynb\" target=\"_parent\"><img src=\"https://colab.research.google.com/assets/colab-badge.svg\" alt=\"Open In Colab\"/></a>"
      ]
    },
    {
      "cell_type": "code",
      "execution_count": 4,
      "metadata": {
        "colab": {
          "base_uri": "https://localhost:8080/"
        },
        "id": "w0hKHAxpmfI2",
        "outputId": "da4d89ad-f1e7-44f9-c1f7-624b65448689"
      },
      "outputs": [
        {
          "output_type": "stream",
          "name": "stdout",
          "text": [
            "Tamanho do texto = 65\n",
            "python in texto = True\n",
            "Quantidade de e no texto = 5\n",
            "As 5 primeiras letras são: Explo\n"
          ]
        }
      ],
      "source": [
        "texto = \"Explorando a diversidade de linguagens de programação com Python.\"\n",
        "\n",
        "#conta quantas letras tem na estrutura (texto)\n",
        "print(f\"Tamanho do texto = {len(texto)}\")\n",
        "\n",
        "#verifica se tem a palavra pyhton na estrutura (texto), se tiver = true. Senão = false\n",
        "print(f\"python in texto = {'Python' in texto}\")\n",
        "\n",
        "#conta a quantidade de e na estrutura (texto), obs: tem dois tipos, e - E, eles são diferentes\n",
        "print(f\"Quantidade de e no texto = {texto.count('e')}\")\n",
        "\n",
        "#mostra as primeiras 5 letras da estrutura(texto)\n",
        "print(f\"As 5 primeiras letras são: {texto[:5]}\")"
      ]
    },
    {
      "cell_type": "code",
      "source": [
        "texto[13]"
      ],
      "metadata": {
        "colab": {
          "base_uri": "https://localhost:8080/",
          "height": 36
        },
        "id": "P_Qkopwxn2hX",
        "outputId": "91f46d64-b802-4eee-b03c-9a55809cca4c"
      },
      "execution_count": 5,
      "outputs": [
        {
          "output_type": "execute_result",
          "data": {
            "text/plain": [
              "'d'"
            ],
            "application/vnd.google.colaboratory.intrinsic+json": {
              "type": "string"
            }
          },
          "metadata": {},
          "execution_count": 5
        }
      ]
    },
    {
      "cell_type": "code",
      "source": [
        "\n",
        "\n",
        "\n",
        "#diz qual posição cada cor esta na lista\n",
        "cores = ['vermelho', 'azul', 'verde', 'amarelo','preto', 'branco']\n",
        "for cor in cores:\n",
        "  print(f'Posição = {cores.index(cor)}, cor = {cor}')"
      ],
      "metadata": {
        "colab": {
          "base_uri": "https://localhost:8080/"
        },
        "id": "fAhjkB_dpknT",
        "outputId": "932d4be3-5929-4e11-e95c-123ba59ba27e"
      },
      "execution_count": 9,
      "outputs": [
        {
          "output_type": "stream",
          "name": "stdout",
          "text": [
            "Posição = 0, cor = vermelho\n",
            "Posição = 1, cor = azul\n",
            "Posição = 2, cor = verde\n",
            "Posição = 3, cor = amarelo\n",
            "Posição = 4, cor = preto\n",
            "Posição = 5, cor = branco\n"
          ]
        }
      ]
    },
    {
      "cell_type": "code",
      "source": [],
      "metadata": {
        "id": "xuOX2tNLra3Y"
      },
      "execution_count": null,
      "outputs": []
    },
    {
      "cell_type": "code",
      "source": [],
      "metadata": {
        "id": "IngX3YqTrbCH"
      },
      "execution_count": null,
      "outputs": []
    },
    {
      "cell_type": "code",
      "source": [],
      "metadata": {
        "id": "6VaW-d8-rbE_"
      },
      "execution_count": null,
      "outputs": []
    },
    {
      "cell_type": "code",
      "source": [
        "linguagens = [\"Python\", \"Java\", \"JavaScript\", \"C\", \"C#\", \"C++\", \"Swift\", \"Go\", \"Kotlin\"]\n",
        "print(f\"Antes da listcomp = \", linguagens)\n",
        "\n",
        "#cria uma nova lista, item.lower, uma função para deixar tudo no diminutivo\n",
        "linguagens = [item.lower() for item in linguagens]\n",
        "print(\"\\nDepois da listcomp= \", linguagens)\n",
        "\n",
        "\n",
        "\n",
        "\n"
      ],
      "metadata": {
        "colab": {
          "base_uri": "https://localhost:8080/"
        },
        "id": "jWTNtGuGraQA",
        "outputId": "382b3cda-bc8a-451b-c081-d158fb6540ee"
      },
      "execution_count": 10,
      "outputs": [
        {
          "output_type": "stream",
          "name": "stdout",
          "text": [
            "Antes da listcomp =  ['Python', 'Java', 'JavaScript', 'C', 'C#', 'C++', 'Swift', 'Go', 'Kotlin']\n",
            "\n",
            "Depois da listcomp=  ['python', 'java', 'javascript', 'c', 'c#', 'c++', 'swift', 'go', 'kotlin']\n"
          ]
        }
      ]
    },
    {
      "cell_type": "code",
      "source": [
        "#função map\"\n",
        "#aplica a uma função em toda a sequencia\n",
        "#map(funçãp, sequencia)\n",
        "precos_em_dolares = [100, 50, 75, 120]\n",
        "taxxa_de_cambio = 5.25\n",
        "precos_em_reais = list(map(lambda x: x * taxxa_de_cambio, precos_em_dolares))\n",
        "print(precos_em_reais)\n",
        "\n",
        "\n"
      ],
      "metadata": {
        "colab": {
          "base_uri": "https://localhost:8080/"
        },
        "id": "z9qrHTkHsysx",
        "outputId": "20264da7-8ead-4973-eee9-f4d8ff851277"
      },
      "execution_count": 11,
      "outputs": [
        {
          "output_type": "stream",
          "name": "stdout",
          "text": [
            "[525.0, 262.5, 393.75, 630.0]\n"
          ]
        }
      ]
    },
    {
      "cell_type": "code",
      "source": [
        "#função filter!\n",
        "#filtra os elementos de uma sequencia com base em uma função de teste (retorna true or false)\n",
        "#filter(funcao_teste, sequencia)\n",
        "numeros = [1,2,3,4,5,6,7,8,9,10]\n",
        "numeros_pares = list(filter(lambda x: x % 2 == 0, numeros))\n",
        "print(numeros_pares)\n",
        "\n",
        "\n",
        "\n"
      ],
      "metadata": {
        "colab": {
          "base_uri": "https://localhost:8080/"
        },
        "id": "toZHUSYDtT8e",
        "outputId": "d86c0e1b-7dd3-4ed7-9357-a575f5992c45"
      },
      "execution_count": 12,
      "outputs": [
        {
          "output_type": "stream",
          "name": "stdout",
          "text": [
            "[2, 4, 6, 8, 10]\n"
          ]
        }
      ]
    },
    {
      "cell_type": "code",
      "source": [
        "#A ORDEM IMPORTA--\n",
        "#EXEMPLOS DE MAIS TUPLAS E UTILIDADE\n",
        "#tupla não pode ser mutavel\n",
        "\n",
        "#mostra a posição de cada vogal\n",
        "vogais = ('a', 'e', 'i', 'o', 'u')\n",
        "print(f\"Tipo do objeto vogais = {type(vogais)}\")\n",
        "for p, x in enumerate(vogais):\n",
        "  print(f\"Posição = {p}, valor = {x}\")\n",
        "\n",
        "\n",
        "\n",
        "\n",
        "\n",
        ""
      ],
      "metadata": {
        "colab": {
          "base_uri": "https://localhost:8080/"
        },
        "id": "XX1Vzxzgur6z",
        "outputId": "6ef67744-8337-4856-d709-42d05290ec05"
      },
      "execution_count": 13,
      "outputs": [
        {
          "output_type": "stream",
          "name": "stdout",
          "text": [
            "Tipo do objeto vogais = <class 'tuple'>\n",
            "Posição = 0, valor = a\n",
            "Posição = 1, valor = e\n",
            "Posição = 2, valor = i\n",
            "Posição = 3, valor = o\n",
            "Posição = 4, valor = u\n"
          ]
        }
      ]
    },
    {
      "cell_type": "code",
      "source": [
        "#tupla de convidados - tupla nao pode ser mutavel\n",
        "convidados = (\"Pedro\", \"Flavio\", \"Regina\", \"Kawane\", \"Rayan\")\n",
        "\n",
        "#lista de confirmações\n",
        "confirmados = [\"Pedro\", \"Rayan\"]\n",
        "\n",
        "#identificar quem ainda não confirmou\n",
        "#se convidado nao esta em confirmados\n",
        "nao_confirmados = [convidado for convidado in convidados if convidado not in confirmados]\n",
        "\n",
        "#exibir convidados que ainda não confirmaram\n",
        "print(\"Convidados que ainda não confirmaram:\")\n",
        "for pessoa in nao_confirmados:\n",
        "  print(pessoa)\n",
        "\n",
        "#enviar lembretes aos nao confirmados\n",
        "#\\n pula uma linha\n",
        "print(\"\\nEnviando lembretes para os convidados que ainda não confirmaram.\")"
      ],
      "metadata": {
        "colab": {
          "base_uri": "https://localhost:8080/"
        },
        "id": "kdaEu6ICv-4R",
        "outputId": "eb584ea3-7457-4828-aae7-730487410c47"
      },
      "execution_count": 18,
      "outputs": [
        {
          "output_type": "stream",
          "name": "stdout",
          "text": [
            "Convidados que ainda não confirmaram:\n",
            "Flavio\n",
            "Regina\n",
            "Kawane\n",
            "\n",
            "Enviando lembretes para os convidados que ainda não confirmaram.\n"
          ]
        }
      ]
    },
    {
      "cell_type": "code",
      "source": [],
      "metadata": {
        "id": "G6DrWQmWwPHc"
      },
      "execution_count": null,
      "outputs": []
    }
  ]
}